{
  "nbformat": 4,
  "nbformat_minor": 0,
  "metadata": {
    "colab": {
      "provenance": [],
      "collapsed_sections": [],
      "include_colab_link": true
    },
    "kernelspec": {
      "name": "python3",
      "display_name": "Python 3"
    },
    "language_info": {
      "name": "python"
    },
    "accelerator": "GPU",
    "gpuClass": "standard"
  },
  "cells": [
    {
      "cell_type": "markdown",
      "metadata": {
        "id": "view-in-github",
        "colab_type": "text"
      },
      "source": [
        "<a href=\"https://colab.research.google.com/github/justynakomorowska/Bank-Marketing-Problem/blob/master/NLP_intro.ipynb\" target=\"_parent\"><img src=\"https://colab.research.google.com/assets/colab-badge.svg\" alt=\"Open In Colab\"/></a>"
      ]
    },
    {
      "cell_type": "markdown",
      "source": [
        "# Wprowadzenie do NLP\n",
        "\n",
        "Opracowanie: Dominika Wnuk <dwnuk@pja.edu.pl>\n",
        "\n",
        "Modyikacja: Danijel Koržinek <danijel@pja.edu.pl>\n",
        "\n",
        "\n",
        "Na tym ćwiczeniu sprawdzimy kilka podstawowych kroków potrzebnych do realizacji prostego zadania analizy tekstu - rozozpawanie wydźwięku. Dane jakie będziemy analizować pochodzą z internetu i przez to mogą być znacznie zanieczyszczone. Etapy jakie mamy wykonać to:\n",
        "\n",
        "1. pobieranie danych (w przypadku tego ćwiczenia jest to już zrealizowane)\n",
        "2. etykietowanie danych (to też już posiadamy)\n",
        "3. czyszczenie i normalizacja tekstu\n",
        "4. tokenizacja, stemming, lematyzacja\n",
        "5. ekstrakcja cech\n",
        "6. klasyfikacja\n",
        "\n",
        "Zaczynijmy więc od pobrania przygotowanego zbioru danych. Pochodzi on z Twittera i został zapisany w formacie CSV pod adresem:\n",
        "\n",
        "https://www.pja.edu.pl/~danijel/zum/Sentiment_Data.csv"
      ],
      "metadata": {
        "id": "QO7WKre662QU"
      }
    },
    {
      "cell_type": "code",
      "source": [
        "import pandas as pd"
      ],
      "metadata": {
        "id": "Dy3ssMpvYDB9"
      },
      "execution_count": 1,
      "outputs": []
    },
    {
      "cell_type": "code",
      "execution_count": 5,
      "metadata": {
        "id": "Dpj1qgm2eMPL"
      },
      "outputs": [],
      "source": [
        "url = \"https://www.pja.edu.pl/~danijel/zum/Sentiment_Data.csv\"\n",
        "dane = pd.read_csv(url)"
      ]
    },
    {
      "cell_type": "markdown",
      "source": [
        "# Instalacja i import bibliotek\n",
        "\n",
        "Zacznijmy od zainstalowania najnowszej wersji biblioteki spacy i ściągniecia modelu dla jęyzka angielskiego:\n",
        "\n",
        "```\n",
        "!pip install -U spacy\n",
        "!python -m spacy download en_core_web_md\n",
        "```\n"
      ],
      "metadata": {
        "id": "-zWTgE5F8Swu"
      }
    },
    {
      "cell_type": "code",
      "source": [
        "!pip install -U spacy\n",
        "!python -m spacy download en_core_web_md"
      ],
      "metadata": {
        "id": "j88-m-Nvo3VI",
        "colab": {
          "base_uri": "https://localhost:8080/"
        },
        "outputId": "79d3c80f-679a-437a-b9f6-0debf245b2d6"
      },
      "execution_count": 6,
      "outputs": [
        {
          "output_type": "stream",
          "name": "stdout",
          "text": [
            "Looking in indexes: https://pypi.org/simple, https://us-python.pkg.dev/colab-wheels/public/simple/\n",
            "Requirement already satisfied: spacy in /usr/local/lib/python3.7/dist-packages (3.4.2)\n",
            "Collecting spacy\n",
            "  Downloading spacy-3.4.3-cp37-cp37m-manylinux_2_17_x86_64.manylinux2014_x86_64.whl (6.4 MB)\n",
            "\u001b[K     |████████████████████████████████| 6.4 MB 18.7 MB/s \n",
            "\u001b[?25hRequirement already satisfied: preshed<3.1.0,>=3.0.2 in /usr/local/lib/python3.7/dist-packages (from spacy) (3.0.8)\n",
            "Requirement already satisfied: srsly<3.0.0,>=2.4.3 in /usr/local/lib/python3.7/dist-packages (from spacy) (2.4.5)\n",
            "Requirement already satisfied: jinja2 in /usr/local/lib/python3.7/dist-packages (from spacy) (2.11.3)\n",
            "Requirement already satisfied: packaging>=20.0 in /usr/local/lib/python3.7/dist-packages (from spacy) (21.3)\n",
            "Requirement already satisfied: pydantic!=1.8,!=1.8.1,<1.11.0,>=1.7.4 in /usr/local/lib/python3.7/dist-packages (from spacy) (1.10.2)\n",
            "Requirement already satisfied: tqdm<5.0.0,>=4.38.0 in /usr/local/lib/python3.7/dist-packages (from spacy) (4.64.1)\n",
            "Requirement already satisfied: pathy>=0.3.5 in /usr/local/lib/python3.7/dist-packages (from spacy) (0.6.2)\n",
            "Requirement already satisfied: cymem<2.1.0,>=2.0.2 in /usr/local/lib/python3.7/dist-packages (from spacy) (2.0.7)\n",
            "Requirement already satisfied: numpy>=1.15.0 in /usr/local/lib/python3.7/dist-packages (from spacy) (1.21.6)\n",
            "Requirement already satisfied: wasabi<1.1.0,>=0.9.1 in /usr/local/lib/python3.7/dist-packages (from spacy) (0.10.1)\n",
            "Requirement already satisfied: langcodes<4.0.0,>=3.2.0 in /usr/local/lib/python3.7/dist-packages (from spacy) (3.3.0)\n",
            "Requirement already satisfied: spacy-legacy<3.1.0,>=3.0.10 in /usr/local/lib/python3.7/dist-packages (from spacy) (3.0.10)\n",
            "Requirement already satisfied: setuptools in /usr/local/lib/python3.7/dist-packages (from spacy) (57.4.0)\n",
            "Requirement already satisfied: typing-extensions<4.2.0,>=3.7.4 in /usr/local/lib/python3.7/dist-packages (from spacy) (4.1.1)\n",
            "Requirement already satisfied: spacy-loggers<2.0.0,>=1.0.0 in /usr/local/lib/python3.7/dist-packages (from spacy) (1.0.3)\n",
            "Requirement already satisfied: catalogue<2.1.0,>=2.0.6 in /usr/local/lib/python3.7/dist-packages (from spacy) (2.0.8)\n",
            "Requirement already satisfied: typer<0.8.0,>=0.3.0 in /usr/local/lib/python3.7/dist-packages (from spacy) (0.4.2)\n",
            "Requirement already satisfied: requests<3.0.0,>=2.13.0 in /usr/local/lib/python3.7/dist-packages (from spacy) (2.23.0)\n",
            "Requirement already satisfied: murmurhash<1.1.0,>=0.28.0 in /usr/local/lib/python3.7/dist-packages (from spacy) (1.0.9)\n",
            "Requirement already satisfied: thinc<8.2.0,>=8.1.0 in /usr/local/lib/python3.7/dist-packages (from spacy) (8.1.5)\n",
            "Requirement already satisfied: zipp>=0.5 in /usr/local/lib/python3.7/dist-packages (from catalogue<2.1.0,>=2.0.6->spacy) (3.10.0)\n",
            "Requirement already satisfied: pyparsing!=3.0.5,>=2.0.2 in /usr/local/lib/python3.7/dist-packages (from packaging>=20.0->spacy) (3.0.9)\n",
            "Requirement already satisfied: smart-open<6.0.0,>=5.2.1 in /usr/local/lib/python3.7/dist-packages (from pathy>=0.3.5->spacy) (5.2.1)\n",
            "Requirement already satisfied: chardet<4,>=3.0.2 in /usr/local/lib/python3.7/dist-packages (from requests<3.0.0,>=2.13.0->spacy) (3.0.4)\n",
            "Requirement already satisfied: idna<3,>=2.5 in /usr/local/lib/python3.7/dist-packages (from requests<3.0.0,>=2.13.0->spacy) (2.10)\n",
            "Requirement already satisfied: certifi>=2017.4.17 in /usr/local/lib/python3.7/dist-packages (from requests<3.0.0,>=2.13.0->spacy) (2022.9.24)\n",
            "Requirement already satisfied: urllib3!=1.25.0,!=1.25.1,<1.26,>=1.21.1 in /usr/local/lib/python3.7/dist-packages (from requests<3.0.0,>=2.13.0->spacy) (1.24.3)\n",
            "Requirement already satisfied: confection<1.0.0,>=0.0.1 in /usr/local/lib/python3.7/dist-packages (from thinc<8.2.0,>=8.1.0->spacy) (0.0.3)\n",
            "Requirement already satisfied: blis<0.8.0,>=0.7.8 in /usr/local/lib/python3.7/dist-packages (from thinc<8.2.0,>=8.1.0->spacy) (0.7.9)\n",
            "Requirement already satisfied: click<9.0.0,>=7.1.1 in /usr/local/lib/python3.7/dist-packages (from typer<0.8.0,>=0.3.0->spacy) (7.1.2)\n",
            "Requirement already satisfied: MarkupSafe>=0.23 in /usr/local/lib/python3.7/dist-packages (from jinja2->spacy) (2.0.1)\n",
            "Installing collected packages: spacy\n",
            "  Attempting uninstall: spacy\n",
            "    Found existing installation: spacy 3.4.2\n",
            "    Uninstalling spacy-3.4.2:\n",
            "      Successfully uninstalled spacy-3.4.2\n",
            "Successfully installed spacy-3.4.3\n",
            "Looking in indexes: https://pypi.org/simple, https://us-python.pkg.dev/colab-wheels/public/simple/\n",
            "Collecting en-core-web-md==3.4.1\n",
            "  Downloading https://github.com/explosion/spacy-models/releases/download/en_core_web_md-3.4.1/en_core_web_md-3.4.1-py3-none-any.whl (42.8 MB)\n",
            "\u001b[K     |████████████████████████████████| 42.8 MB 1.7 MB/s \n",
            "\u001b[?25hRequirement already satisfied: spacy<3.5.0,>=3.4.0 in /usr/local/lib/python3.7/dist-packages (from en-core-web-md==3.4.1) (3.4.3)\n",
            "Requirement already satisfied: spacy-legacy<3.1.0,>=3.0.10 in /usr/local/lib/python3.7/dist-packages (from spacy<3.5.0,>=3.4.0->en-core-web-md==3.4.1) (3.0.10)\n",
            "Requirement already satisfied: catalogue<2.1.0,>=2.0.6 in /usr/local/lib/python3.7/dist-packages (from spacy<3.5.0,>=3.4.0->en-core-web-md==3.4.1) (2.0.8)\n",
            "Requirement already satisfied: preshed<3.1.0,>=3.0.2 in /usr/local/lib/python3.7/dist-packages (from spacy<3.5.0,>=3.4.0->en-core-web-md==3.4.1) (3.0.8)\n",
            "Requirement already satisfied: requests<3.0.0,>=2.13.0 in /usr/local/lib/python3.7/dist-packages (from spacy<3.5.0,>=3.4.0->en-core-web-md==3.4.1) (2.23.0)\n",
            "Requirement already satisfied: cymem<2.1.0,>=2.0.2 in /usr/local/lib/python3.7/dist-packages (from spacy<3.5.0,>=3.4.0->en-core-web-md==3.4.1) (2.0.7)\n",
            "Requirement already satisfied: packaging>=20.0 in /usr/local/lib/python3.7/dist-packages (from spacy<3.5.0,>=3.4.0->en-core-web-md==3.4.1) (21.3)\n",
            "Requirement already satisfied: tqdm<5.0.0,>=4.38.0 in /usr/local/lib/python3.7/dist-packages (from spacy<3.5.0,>=3.4.0->en-core-web-md==3.4.1) (4.64.1)\n",
            "Requirement already satisfied: typer<0.8.0,>=0.3.0 in /usr/local/lib/python3.7/dist-packages (from spacy<3.5.0,>=3.4.0->en-core-web-md==3.4.1) (0.4.2)\n",
            "Requirement already satisfied: numpy>=1.15.0 in /usr/local/lib/python3.7/dist-packages (from spacy<3.5.0,>=3.4.0->en-core-web-md==3.4.1) (1.21.6)\n",
            "Requirement already satisfied: pydantic!=1.8,!=1.8.1,<1.11.0,>=1.7.4 in /usr/local/lib/python3.7/dist-packages (from spacy<3.5.0,>=3.4.0->en-core-web-md==3.4.1) (1.10.2)\n",
            "Requirement already satisfied: typing-extensions<4.2.0,>=3.7.4 in /usr/local/lib/python3.7/dist-packages (from spacy<3.5.0,>=3.4.0->en-core-web-md==3.4.1) (4.1.1)\n",
            "Requirement already satisfied: langcodes<4.0.0,>=3.2.0 in /usr/local/lib/python3.7/dist-packages (from spacy<3.5.0,>=3.4.0->en-core-web-md==3.4.1) (3.3.0)\n",
            "Requirement already satisfied: srsly<3.0.0,>=2.4.3 in /usr/local/lib/python3.7/dist-packages (from spacy<3.5.0,>=3.4.0->en-core-web-md==3.4.1) (2.4.5)\n",
            "Requirement already satisfied: pathy>=0.3.5 in /usr/local/lib/python3.7/dist-packages (from spacy<3.5.0,>=3.4.0->en-core-web-md==3.4.1) (0.6.2)\n",
            "Requirement already satisfied: jinja2 in /usr/local/lib/python3.7/dist-packages (from spacy<3.5.0,>=3.4.0->en-core-web-md==3.4.1) (2.11.3)\n",
            "Requirement already satisfied: murmurhash<1.1.0,>=0.28.0 in /usr/local/lib/python3.7/dist-packages (from spacy<3.5.0,>=3.4.0->en-core-web-md==3.4.1) (1.0.9)\n",
            "Requirement already satisfied: wasabi<1.1.0,>=0.9.1 in /usr/local/lib/python3.7/dist-packages (from spacy<3.5.0,>=3.4.0->en-core-web-md==3.4.1) (0.10.1)\n",
            "Requirement already satisfied: spacy-loggers<2.0.0,>=1.0.0 in /usr/local/lib/python3.7/dist-packages (from spacy<3.5.0,>=3.4.0->en-core-web-md==3.4.1) (1.0.3)\n",
            "Requirement already satisfied: thinc<8.2.0,>=8.1.0 in /usr/local/lib/python3.7/dist-packages (from spacy<3.5.0,>=3.4.0->en-core-web-md==3.4.1) (8.1.5)\n",
            "Requirement already satisfied: setuptools in /usr/local/lib/python3.7/dist-packages (from spacy<3.5.0,>=3.4.0->en-core-web-md==3.4.1) (57.4.0)\n",
            "Requirement already satisfied: zipp>=0.5 in /usr/local/lib/python3.7/dist-packages (from catalogue<2.1.0,>=2.0.6->spacy<3.5.0,>=3.4.0->en-core-web-md==3.4.1) (3.10.0)\n",
            "Requirement already satisfied: pyparsing!=3.0.5,>=2.0.2 in /usr/local/lib/python3.7/dist-packages (from packaging>=20.0->spacy<3.5.0,>=3.4.0->en-core-web-md==3.4.1) (3.0.9)\n",
            "Requirement already satisfied: smart-open<6.0.0,>=5.2.1 in /usr/local/lib/python3.7/dist-packages (from pathy>=0.3.5->spacy<3.5.0,>=3.4.0->en-core-web-md==3.4.1) (5.2.1)\n",
            "Requirement already satisfied: certifi>=2017.4.17 in /usr/local/lib/python3.7/dist-packages (from requests<3.0.0,>=2.13.0->spacy<3.5.0,>=3.4.0->en-core-web-md==3.4.1) (2022.9.24)\n",
            "Requirement already satisfied: chardet<4,>=3.0.2 in /usr/local/lib/python3.7/dist-packages (from requests<3.0.0,>=2.13.0->spacy<3.5.0,>=3.4.0->en-core-web-md==3.4.1) (3.0.4)\n",
            "Requirement already satisfied: urllib3!=1.25.0,!=1.25.1,<1.26,>=1.21.1 in /usr/local/lib/python3.7/dist-packages (from requests<3.0.0,>=2.13.0->spacy<3.5.0,>=3.4.0->en-core-web-md==3.4.1) (1.24.3)\n",
            "Requirement already satisfied: idna<3,>=2.5 in /usr/local/lib/python3.7/dist-packages (from requests<3.0.0,>=2.13.0->spacy<3.5.0,>=3.4.0->en-core-web-md==3.4.1) (2.10)\n",
            "Requirement already satisfied: blis<0.8.0,>=0.7.8 in /usr/local/lib/python3.7/dist-packages (from thinc<8.2.0,>=8.1.0->spacy<3.5.0,>=3.4.0->en-core-web-md==3.4.1) (0.7.9)\n",
            "Requirement already satisfied: confection<1.0.0,>=0.0.1 in /usr/local/lib/python3.7/dist-packages (from thinc<8.2.0,>=8.1.0->spacy<3.5.0,>=3.4.0->en-core-web-md==3.4.1) (0.0.3)\n",
            "Requirement already satisfied: click<9.0.0,>=7.1.1 in /usr/local/lib/python3.7/dist-packages (from typer<0.8.0,>=0.3.0->spacy<3.5.0,>=3.4.0->en-core-web-md==3.4.1) (7.1.2)\n",
            "Requirement already satisfied: MarkupSafe>=0.23 in /usr/local/lib/python3.7/dist-packages (from jinja2->spacy<3.5.0,>=3.4.0->en-core-web-md==3.4.1) (2.0.1)\n",
            "Installing collected packages: en-core-web-md\n",
            "Successfully installed en-core-web-md-3.4.1\n",
            "\u001b[38;5;2m✔ Download and installation successful\u001b[0m\n",
            "You can now load the package via spacy.load('en_core_web_md')\n"
          ]
        }
      ]
    },
    {
      "cell_type": "markdown",
      "source": [
        "Następnie zaimportujemy bibliotekę pandas do pracy ze zbiorami danych:\n",
        "```\n",
        "import pandas as pd\n",
        "```\n",
        "\n",
        "Matplotlib będzie do rysowania wykresów:\n",
        "```\n",
        "import matplotlib.pyplot as P\n",
        "```\n",
        "\n",
        "Bibliotek seaborn jest rozszerzeniem Matplotlib ułatwiających niektóre obliczenia:\n",
        "```\n",
        "import seaborn as sns\n",
        "```\n",
        "\n",
        "Spacy to przetwarzania języka:\n",
        "```\n",
        "import spacy\n",
        "```\n",
        "\n",
        "Moduł Pythonowy do wyrażeń regularnych:\n",
        "```\n",
        "import re\n",
        "```\n",
        "\n",
        "Wordcloud do rysowania chmur tagów:\n",
        "```\n",
        "from wordcloud import WordCloud\n",
        "```\n",
        "\n",
        "Progressbary:\n",
        "```\n",
        "from tqdm import tqdm\n",
        "tqdm.pandas()\n",
        "```\n",
        "\n",
        "Oraz scikit-learn do klasyfikacji:\n",
        "```\n",
        "from sklearn.feature_extraction.text import TfidfVectorizer\n",
        "from sklearn.model_selection import train_test_split\n",
        "from sklearn.naive_bayes import BernoulliNB\n",
        "from sklearn.metrics import confusion_matrix, classification_report\n",
        "```"
      ],
      "metadata": {
        "id": "Ls6UxUCw8jhh"
      }
    },
    {
      "cell_type": "code",
      "source": [
        "import matplotlib.pyplot as P\n",
        "import seaborn as sns\n",
        "import spacy\n",
        "import re\n",
        "from wordcloud import WordCloud\n",
        "from tqdm import tqdm\n",
        "tqdm.pandas()\n",
        "from sklearn.feature_extraction.text import TfidfVectorizer\n",
        "from sklearn.model_selection import train_test_split\n",
        "from sklearn.naive_bayes import BernoulliNB\n",
        "from sklearn.metrics import confusion_matrix, classification_report"
      ],
      "metadata": {
        "id": "qLOVdyI3kKsB"
      },
      "execution_count": 7,
      "outputs": []
    },
    {
      "cell_type": "markdown",
      "source": [
        "# Wczytywanie danych\n",
        "\n",
        "Wczytaj plik CSV metodą `read_csv` z biblioteki pandas podając następujące nazwy kolumn:\n",
        "```\n",
        "['target','ids','date','flag','user','text']\n",
        "```\n",
        "\n",
        "Po wczytaniu możesz użyc metody `sample` żeby wylosować N wierszy do wyświetlenia."
      ],
      "metadata": {
        "id": "v5fV3iW99kVs"
      }
    },
    {
      "cell_type": "code",
      "source": [
        "url = \"https://www.pja.edu.pl/~danijel/zum/Sentiment_Data.csv\"\n"
      ],
      "metadata": {
        "id": "06xVcuDCjzO1"
      },
      "execution_count": null,
      "outputs": []
    },
    {
      "cell_type": "code",
      "source": [
        "colnames=['target','ids','date','flag','user','text']\n",
        "data = pd.read_csv(url, names=colnames, header=None)"
      ],
      "metadata": {
        "id": "yJSQXSkjZv9n"
      },
      "execution_count": 9,
      "outputs": []
    },
    {
      "cell_type": "code",
      "source": [
        "#data.head()\n",
        "data.sample(5)"
      ],
      "metadata": {
        "colab": {
          "base_uri": "https://localhost:8080/",
          "height": 206
        },
        "id": "SsRknGEWZeh8",
        "outputId": "d5d704d7-013c-439f-f7c6-ea3af835fe0b"
      },
      "execution_count": 13,
      "outputs": [
        {
          "output_type": "execute_result",
          "data": {
            "text/plain": [
              "         target         ids                          date      flag  \\\n",
              "1266689       4  1999707203  Mon Jun 01 20:40:57 PDT 2009  NO_QUERY   \n",
              "1282049       4  2001800187  Tue Jun 02 02:06:57 PDT 2009  NO_QUERY   \n",
              "757885        0  2295503473  Tue Jun 23 08:00:40 PDT 2009  NO_QUERY   \n",
              "477468        0  2178228581  Mon Jun 15 07:23:21 PDT 2009  NO_QUERY   \n",
              "1193071       4  1984186091  Sun May 31 14:36:32 PDT 2009  NO_QUERY   \n",
              "\n",
              "                 user                                               text  \n",
              "1266689  original_one  @fairly_biased  Yeah.... i guess.... me person...  \n",
              "1282049     perezcano  [MODO IRONIC ON] Como me gusta Project Server ...  \n",
              "757885   Jada_luvs_hp  @haleyjo19 awww :'( now I'm sad  I'll kidnap y...  \n",
              "477468        KKKiana  No more going out when I have work the next da...  \n",
              "1193071     Meagan_Ox  @xx_Boo_xx Yeahh me and tracey will collect yaaa   "
            ],
            "text/html": [
              "\n",
              "  <div id=\"df-57e2ddeb-fa83-4bd7-9a5e-1641b51790ea\">\n",
              "    <div class=\"colab-df-container\">\n",
              "      <div>\n",
              "<style scoped>\n",
              "    .dataframe tbody tr th:only-of-type {\n",
              "        vertical-align: middle;\n",
              "    }\n",
              "\n",
              "    .dataframe tbody tr th {\n",
              "        vertical-align: top;\n",
              "    }\n",
              "\n",
              "    .dataframe thead th {\n",
              "        text-align: right;\n",
              "    }\n",
              "</style>\n",
              "<table border=\"1\" class=\"dataframe\">\n",
              "  <thead>\n",
              "    <tr style=\"text-align: right;\">\n",
              "      <th></th>\n",
              "      <th>target</th>\n",
              "      <th>ids</th>\n",
              "      <th>date</th>\n",
              "      <th>flag</th>\n",
              "      <th>user</th>\n",
              "      <th>text</th>\n",
              "    </tr>\n",
              "  </thead>\n",
              "  <tbody>\n",
              "    <tr>\n",
              "      <th>1266689</th>\n",
              "      <td>4</td>\n",
              "      <td>1999707203</td>\n",
              "      <td>Mon Jun 01 20:40:57 PDT 2009</td>\n",
              "      <td>NO_QUERY</td>\n",
              "      <td>original_one</td>\n",
              "      <td>@fairly_biased  Yeah.... i guess.... me person...</td>\n",
              "    </tr>\n",
              "    <tr>\n",
              "      <th>1282049</th>\n",
              "      <td>4</td>\n",
              "      <td>2001800187</td>\n",
              "      <td>Tue Jun 02 02:06:57 PDT 2009</td>\n",
              "      <td>NO_QUERY</td>\n",
              "      <td>perezcano</td>\n",
              "      <td>[MODO IRONIC ON] Como me gusta Project Server ...</td>\n",
              "    </tr>\n",
              "    <tr>\n",
              "      <th>757885</th>\n",
              "      <td>0</td>\n",
              "      <td>2295503473</td>\n",
              "      <td>Tue Jun 23 08:00:40 PDT 2009</td>\n",
              "      <td>NO_QUERY</td>\n",
              "      <td>Jada_luvs_hp</td>\n",
              "      <td>@haleyjo19 awww :'( now I'm sad  I'll kidnap y...</td>\n",
              "    </tr>\n",
              "    <tr>\n",
              "      <th>477468</th>\n",
              "      <td>0</td>\n",
              "      <td>2178228581</td>\n",
              "      <td>Mon Jun 15 07:23:21 PDT 2009</td>\n",
              "      <td>NO_QUERY</td>\n",
              "      <td>KKKiana</td>\n",
              "      <td>No more going out when I have work the next da...</td>\n",
              "    </tr>\n",
              "    <tr>\n",
              "      <th>1193071</th>\n",
              "      <td>4</td>\n",
              "      <td>1984186091</td>\n",
              "      <td>Sun May 31 14:36:32 PDT 2009</td>\n",
              "      <td>NO_QUERY</td>\n",
              "      <td>Meagan_Ox</td>\n",
              "      <td>@xx_Boo_xx Yeahh me and tracey will collect yaaa</td>\n",
              "    </tr>\n",
              "  </tbody>\n",
              "</table>\n",
              "</div>\n",
              "      <button class=\"colab-df-convert\" onclick=\"convertToInteractive('df-57e2ddeb-fa83-4bd7-9a5e-1641b51790ea')\"\n",
              "              title=\"Convert this dataframe to an interactive table.\"\n",
              "              style=\"display:none;\">\n",
              "        \n",
              "  <svg xmlns=\"http://www.w3.org/2000/svg\" height=\"24px\"viewBox=\"0 0 24 24\"\n",
              "       width=\"24px\">\n",
              "    <path d=\"M0 0h24v24H0V0z\" fill=\"none\"/>\n",
              "    <path d=\"M18.56 5.44l.94 2.06.94-2.06 2.06-.94-2.06-.94-.94-2.06-.94 2.06-2.06.94zm-11 1L8.5 8.5l.94-2.06 2.06-.94-2.06-.94L8.5 2.5l-.94 2.06-2.06.94zm10 10l.94 2.06.94-2.06 2.06-.94-2.06-.94-.94-2.06-.94 2.06-2.06.94z\"/><path d=\"M17.41 7.96l-1.37-1.37c-.4-.4-.92-.59-1.43-.59-.52 0-1.04.2-1.43.59L10.3 9.45l-7.72 7.72c-.78.78-.78 2.05 0 2.83L4 21.41c.39.39.9.59 1.41.59.51 0 1.02-.2 1.41-.59l7.78-7.78 2.81-2.81c.8-.78.8-2.07 0-2.86zM5.41 20L4 18.59l7.72-7.72 1.47 1.35L5.41 20z\"/>\n",
              "  </svg>\n",
              "      </button>\n",
              "      \n",
              "  <style>\n",
              "    .colab-df-container {\n",
              "      display:flex;\n",
              "      flex-wrap:wrap;\n",
              "      gap: 12px;\n",
              "    }\n",
              "\n",
              "    .colab-df-convert {\n",
              "      background-color: #E8F0FE;\n",
              "      border: none;\n",
              "      border-radius: 50%;\n",
              "      cursor: pointer;\n",
              "      display: none;\n",
              "      fill: #1967D2;\n",
              "      height: 32px;\n",
              "      padding: 0 0 0 0;\n",
              "      width: 32px;\n",
              "    }\n",
              "\n",
              "    .colab-df-convert:hover {\n",
              "      background-color: #E2EBFA;\n",
              "      box-shadow: 0px 1px 2px rgba(60, 64, 67, 0.3), 0px 1px 3px 1px rgba(60, 64, 67, 0.15);\n",
              "      fill: #174EA6;\n",
              "    }\n",
              "\n",
              "    [theme=dark] .colab-df-convert {\n",
              "      background-color: #3B4455;\n",
              "      fill: #D2E3FC;\n",
              "    }\n",
              "\n",
              "    [theme=dark] .colab-df-convert:hover {\n",
              "      background-color: #434B5C;\n",
              "      box-shadow: 0px 1px 3px 1px rgba(0, 0, 0, 0.15);\n",
              "      filter: drop-shadow(0px 1px 2px rgba(0, 0, 0, 0.3));\n",
              "      fill: #FFFFFF;\n",
              "    }\n",
              "  </style>\n",
              "\n",
              "      <script>\n",
              "        const buttonEl =\n",
              "          document.querySelector('#df-57e2ddeb-fa83-4bd7-9a5e-1641b51790ea button.colab-df-convert');\n",
              "        buttonEl.style.display =\n",
              "          google.colab.kernel.accessAllowed ? 'block' : 'none';\n",
              "\n",
              "        async function convertToInteractive(key) {\n",
              "          const element = document.querySelector('#df-57e2ddeb-fa83-4bd7-9a5e-1641b51790ea');\n",
              "          const dataTable =\n",
              "            await google.colab.kernel.invokeFunction('convertToInteractive',\n",
              "                                                     [key], {});\n",
              "          if (!dataTable) return;\n",
              "\n",
              "          const docLinkHtml = 'Like what you see? Visit the ' +\n",
              "            '<a target=\"_blank\" href=https://colab.research.google.com/notebooks/data_table.ipynb>data table notebook</a>'\n",
              "            + ' to learn more about interactive tables.';\n",
              "          element.innerHTML = '';\n",
              "          dataTable['output_type'] = 'display_data';\n",
              "          await google.colab.output.renderOutput(dataTable, element);\n",
              "          const docLink = document.createElement('div');\n",
              "          docLink.innerHTML = docLinkHtml;\n",
              "          element.appendChild(docLink);\n",
              "        }\n",
              "      </script>\n",
              "    </div>\n",
              "  </div>\n",
              "  "
            ]
          },
          "metadata": {},
          "execution_count": 13
        }
      ]
    },
    {
      "cell_type": "markdown",
      "source": [
        "Jaki rozmiar ma wczytana tabela danych?"
      ],
      "metadata": {
        "id": "oZl-5LAF98vy"
      }
    },
    {
      "cell_type": "code",
      "source": [
        "data.size # dziwne"
      ],
      "metadata": {
        "id": "rxdSLy64kOsR",
        "colab": {
          "base_uri": "https://localhost:8080/"
        },
        "outputId": "aa84595d-aaf9-432b-b552-b5a1f3bd073b"
      },
      "execution_count": 15,
      "outputs": [
        {
          "output_type": "execute_result",
          "data": {
            "text/plain": [
              "9600000"
            ]
          },
          "metadata": {},
          "execution_count": 15
        }
      ]
    },
    {
      "cell_type": "markdown",
      "source": [
        "Użyj metody `info` żeby się więcej dowiedzieć o typach danych i rozmiaru w pamięci."
      ],
      "metadata": {
        "id": "cST5AUFs-Dos"
      }
    },
    {
      "cell_type": "code",
      "source": [
        "data.info()"
      ],
      "metadata": {
        "id": "k6GyFPc0mA7T",
        "colab": {
          "base_uri": "https://localhost:8080/"
        },
        "outputId": "f56b68ae-260d-4f0c-e511-dc1237e3cac5"
      },
      "execution_count": 16,
      "outputs": [
        {
          "output_type": "stream",
          "name": "stdout",
          "text": [
            "<class 'pandas.core.frame.DataFrame'>\n",
            "RangeIndex: 1600000 entries, 0 to 1599999\n",
            "Data columns (total 6 columns):\n",
            " #   Column  Non-Null Count    Dtype \n",
            "---  ------  --------------    ----- \n",
            " 0   target  1600000 non-null  int64 \n",
            " 1   ids     1600000 non-null  int64 \n",
            " 2   date    1600000 non-null  object\n",
            " 3   flag    1600000 non-null  object\n",
            " 4   user    1600000 non-null  object\n",
            " 5   text    1600000 non-null  object\n",
            "dtypes: int64(2), object(4)\n",
            "memory usage: 73.2+ MB\n"
          ]
        }
      ]
    },
    {
      "cell_type": "markdown",
      "source": [
        "Metoda `nunique` zlicza ile jest różnych wartości w każdej kolumnie, ale jeśli najpierw użyjemy metody `groupby` żeby zgrupować dane po kolumnie `target` zobaczymy ile jest jakich klas w zbiorze."
      ],
      "metadata": {
        "id": "2aFPp8h2-S3Z"
      }
    },
    {
      "cell_type": "code",
      "source": [
        "data.groupby('target').nunique()\n"
      ],
      "metadata": {
        "id": "jwNOoBzblwce",
        "colab": {
          "base_uri": "https://localhost:8080/",
          "height": 143
        },
        "outputId": "41085030-d5af-4fe0-e51d-d65df54c2752"
      },
      "execution_count": 20,
      "outputs": [
        {
          "output_type": "execute_result",
          "data": {
            "text/plain": [
              "           ids    date  flag    user    text\n",
              "target                                      \n",
              "0       800000  593879     1  415671  790185\n",
              "4       800000  286578     1  376569  793506"
            ],
            "text/html": [
              "\n",
              "  <div id=\"df-7dbbcaa4-6b50-440d-8898-82d7bb3fcad2\">\n",
              "    <div class=\"colab-df-container\">\n",
              "      <div>\n",
              "<style scoped>\n",
              "    .dataframe tbody tr th:only-of-type {\n",
              "        vertical-align: middle;\n",
              "    }\n",
              "\n",
              "    .dataframe tbody tr th {\n",
              "        vertical-align: top;\n",
              "    }\n",
              "\n",
              "    .dataframe thead th {\n",
              "        text-align: right;\n",
              "    }\n",
              "</style>\n",
              "<table border=\"1\" class=\"dataframe\">\n",
              "  <thead>\n",
              "    <tr style=\"text-align: right;\">\n",
              "      <th></th>\n",
              "      <th>ids</th>\n",
              "      <th>date</th>\n",
              "      <th>flag</th>\n",
              "      <th>user</th>\n",
              "      <th>text</th>\n",
              "    </tr>\n",
              "    <tr>\n",
              "      <th>target</th>\n",
              "      <th></th>\n",
              "      <th></th>\n",
              "      <th></th>\n",
              "      <th></th>\n",
              "      <th></th>\n",
              "    </tr>\n",
              "  </thead>\n",
              "  <tbody>\n",
              "    <tr>\n",
              "      <th>0</th>\n",
              "      <td>800000</td>\n",
              "      <td>593879</td>\n",
              "      <td>1</td>\n",
              "      <td>415671</td>\n",
              "      <td>790185</td>\n",
              "    </tr>\n",
              "    <tr>\n",
              "      <th>4</th>\n",
              "      <td>800000</td>\n",
              "      <td>286578</td>\n",
              "      <td>1</td>\n",
              "      <td>376569</td>\n",
              "      <td>793506</td>\n",
              "    </tr>\n",
              "  </tbody>\n",
              "</table>\n",
              "</div>\n",
              "      <button class=\"colab-df-convert\" onclick=\"convertToInteractive('df-7dbbcaa4-6b50-440d-8898-82d7bb3fcad2')\"\n",
              "              title=\"Convert this dataframe to an interactive table.\"\n",
              "              style=\"display:none;\">\n",
              "        \n",
              "  <svg xmlns=\"http://www.w3.org/2000/svg\" height=\"24px\"viewBox=\"0 0 24 24\"\n",
              "       width=\"24px\">\n",
              "    <path d=\"M0 0h24v24H0V0z\" fill=\"none\"/>\n",
              "    <path d=\"M18.56 5.44l.94 2.06.94-2.06 2.06-.94-2.06-.94-.94-2.06-.94 2.06-2.06.94zm-11 1L8.5 8.5l.94-2.06 2.06-.94-2.06-.94L8.5 2.5l-.94 2.06-2.06.94zm10 10l.94 2.06.94-2.06 2.06-.94-2.06-.94-.94-2.06-.94 2.06-2.06.94z\"/><path d=\"M17.41 7.96l-1.37-1.37c-.4-.4-.92-.59-1.43-.59-.52 0-1.04.2-1.43.59L10.3 9.45l-7.72 7.72c-.78.78-.78 2.05 0 2.83L4 21.41c.39.39.9.59 1.41.59.51 0 1.02-.2 1.41-.59l7.78-7.78 2.81-2.81c.8-.78.8-2.07 0-2.86zM5.41 20L4 18.59l7.72-7.72 1.47 1.35L5.41 20z\"/>\n",
              "  </svg>\n",
              "      </button>\n",
              "      \n",
              "  <style>\n",
              "    .colab-df-container {\n",
              "      display:flex;\n",
              "      flex-wrap:wrap;\n",
              "      gap: 12px;\n",
              "    }\n",
              "\n",
              "    .colab-df-convert {\n",
              "      background-color: #E8F0FE;\n",
              "      border: none;\n",
              "      border-radius: 50%;\n",
              "      cursor: pointer;\n",
              "      display: none;\n",
              "      fill: #1967D2;\n",
              "      height: 32px;\n",
              "      padding: 0 0 0 0;\n",
              "      width: 32px;\n",
              "    }\n",
              "\n",
              "    .colab-df-convert:hover {\n",
              "      background-color: #E2EBFA;\n",
              "      box-shadow: 0px 1px 2px rgba(60, 64, 67, 0.3), 0px 1px 3px 1px rgba(60, 64, 67, 0.15);\n",
              "      fill: #174EA6;\n",
              "    }\n",
              "\n",
              "    [theme=dark] .colab-df-convert {\n",
              "      background-color: #3B4455;\n",
              "      fill: #D2E3FC;\n",
              "    }\n",
              "\n",
              "    [theme=dark] .colab-df-convert:hover {\n",
              "      background-color: #434B5C;\n",
              "      box-shadow: 0px 1px 3px 1px rgba(0, 0, 0, 0.15);\n",
              "      filter: drop-shadow(0px 1px 2px rgba(0, 0, 0, 0.3));\n",
              "      fill: #FFFFFF;\n",
              "    }\n",
              "  </style>\n",
              "\n",
              "      <script>\n",
              "        const buttonEl =\n",
              "          document.querySelector('#df-7dbbcaa4-6b50-440d-8898-82d7bb3fcad2 button.colab-df-convert');\n",
              "        buttonEl.style.display =\n",
              "          google.colab.kernel.accessAllowed ? 'block' : 'none';\n",
              "\n",
              "        async function convertToInteractive(key) {\n",
              "          const element = document.querySelector('#df-7dbbcaa4-6b50-440d-8898-82d7bb3fcad2');\n",
              "          const dataTable =\n",
              "            await google.colab.kernel.invokeFunction('convertToInteractive',\n",
              "                                                     [key], {});\n",
              "          if (!dataTable) return;\n",
              "\n",
              "          const docLinkHtml = 'Like what you see? Visit the ' +\n",
              "            '<a target=\"_blank\" href=https://colab.research.google.com/notebooks/data_table.ipynb>data table notebook</a>'\n",
              "            + ' to learn more about interactive tables.';\n",
              "          element.innerHTML = '';\n",
              "          dataTable['output_type'] = 'display_data';\n",
              "          await google.colab.output.renderOutput(dataTable, element);\n",
              "          const docLink = document.createElement('div');\n",
              "          docLink.innerHTML = docLinkHtml;\n",
              "          element.appendChild(docLink);\n",
              "        }\n",
              "      </script>\n",
              "    </div>\n",
              "  </div>\n",
              "  "
            ]
          },
          "metadata": {},
          "execution_count": 20
        }
      ]
    },
    {
      "cell_type": "markdown",
      "source": [
        "Możemy też to wyświetlić obrazowo używając metody `countplot` z biblioteki seaborn. Argument `x` należy ustawić na `'target'`, a `data` na wczytaną tabelę danych."
      ],
      "metadata": {
        "id": "7YDced1W-px7"
      }
    },
    {
      "cell_type": "code",
      "source": [
        "sns.countplot(data = data, x = 'target')"
      ],
      "metadata": {
        "id": "0bXgf5zWmSQH",
        "colab": {
          "base_uri": "https://localhost:8080/",
          "height": 296
        },
        "outputId": "78bff2fb-e58d-4fc2-dbb1-df9b89380743"
      },
      "execution_count": 21,
      "outputs": [
        {
          "output_type": "execute_result",
          "data": {
            "text/plain": [
              "<matplotlib.axes._subplots.AxesSubplot at 0x7ff0a2c9f2d0>"
            ]
          },
          "metadata": {},
          "execution_count": 21
        },
        {
          "output_type": "display_data",
          "data": {
            "text/plain": [
              "<Figure size 432x288 with 1 Axes>"
            ],
            "image/png": "[encoded data removed]"
          },
          "metadata": {
            "needs_background": "light"
          }
        }
      ]
    },
    {
      "cell_type": "markdown",
      "source": [
        "Wyświetl kilka losowych przykładów z każdej klasy:"
      ],
      "metadata": {
        "id": "rvYXZYMR--ZV"
      }
    },
    {
      "cell_type": "code",
      "source": [
        "data[data['target']== 0].sample(15)"
      ],
      "metadata": {
        "id": "_JucrDcEmP_5",
        "colab": {
          "base_uri": "https://localhost:8080/",
          "height": 520
        },
        "outputId": "e8288412-193b-450e-c71a-cf9f6c5c95cf"
      },
      "execution_count": 22,
      "outputs": [
        {
          "output_type": "execute_result",
          "data": {
            "text/plain": [
              "        target         ids                          date      flag  \\\n",
              "742966       0  2266703022  Sun Jun 21 08:57:45 PDT 2009  NO_QUERY   \n",
              "716869       0  2259827962  Sat Jun 20 18:13:42 PDT 2009  NO_QUERY   \n",
              "790278       0  2325616986  Thu Jun 25 05:46:33 PDT 2009  NO_QUERY   \n",
              "184709       0  1967780992  Fri May 29 20:12:00 PDT 2009  NO_QUERY   \n",
              "30431        0  1563765840  Mon Apr 20 00:10:14 PDT 2009  NO_QUERY   \n",
              "684867       0  2250627604  Sat Jun 20 01:02:21 PDT 2009  NO_QUERY   \n",
              "128140       0  1834857319  Mon May 18 04:25:34 PDT 2009  NO_QUERY   \n",
              "465577       0  2175380666  Mon Jun 15 00:49:43 PDT 2009  NO_QUERY   \n",
              "487009       0  2181873469  Mon Jun 15 12:24:52 PDT 2009  NO_QUERY   \n",
              "669564       0  2246293761  Fri Jun 19 17:22:47 PDT 2009  NO_QUERY   \n",
              "358818       0  2045469041  Fri Jun 05 10:46:18 PDT 2009  NO_QUERY   \n",
              "485602       0  2181196301  Mon Jun 15 11:29:58 PDT 2009  NO_QUERY   \n",
              "496185       0  2185468288  Mon Jun 15 17:25:38 PDT 2009  NO_QUERY   \n",
              "352201       0  2030657132  Thu Jun 04 08:41:33 PDT 2009  NO_QUERY   \n",
              "355837       0  2044069316  Fri Jun 05 08:49:30 PDT 2009  NO_QUERY   \n",
              "\n",
              "                 user                                               text  \n",
              "742966       chaqueta  @natters1210 your avatar is a big x on my comp...  \n",
              "716869        seylind  We won silver yesturday \\/ pero sayang yung gold   \n",
              "790278    JayLauretta  @jyeags Just saw this reply. $3.50 is a hell o...  \n",
              "184709   gudrunhaider  Playing piano for a little while because soon ...  \n",
              "30431       petpal102                                  depression sucks   \n",
              "684867  SweetLovelyYJ  It is so................................. boring   \n",
              "128140  davideggleton  @Bdav me too, I only found out about it a few ...  \n",
              "465577  MarKusLambert  @mikalahgordon I wanna be there with you!!  I ...  \n",
              "487009       Abeillee  @RemiDanaeJ HEY YOU LOL. I can't beleive I joi...  \n",
              "669564   iAmTarynItUp  @simplyminda so u either got the pic or NOT bi...  \n",
              "358818  Fairymoonbeam  @alan0606 now how would I get that??? Fraid I ...  \n",
              "485602       kzzinsky  : Perhaps the worst First Day Back From Holida...  \n",
              "496185         soybub        Can't bring myself to try the new Vegemite   \n",
              "352201       a220life  Is grieving that he will be unable to attend h...  \n",
              "355837        lejlaxo  @selenagomez That blog post is all over the In...  "
            ],
            "text/html": [
              "\n",
              "  <div id=\"df-24c69c4d-fa9c-4389-ab7a-18d95b7f8a8e\">\n",
              "    <div class=\"colab-df-container\">\n",
              "      <div>\n",
              "<style scoped>\n",
              "    .dataframe tbody tr th:only-of-type {\n",
              "        vertical-align: middle;\n",
              "    }\n",
              "\n",
              "    .dataframe tbody tr th {\n",
              "        vertical-align: top;\n",
              "    }\n",
              "\n",
              "    .dataframe thead th {\n",
              "        text-align: right;\n",
              "    }\n",
              "</style>\n",
              "<table border=\"1\" class=\"dataframe\">\n",
              "  <thead>\n",
              "    <tr style=\"text-align: right;\">\n",
              "      <th></th>\n",
              "      <th>target</th>\n",
              "      <th>ids</th>\n",
              "      <th>date</th>\n",
              "      <th>flag</th>\n",
              "      <th>user</th>\n",
              "      <th>text</th>\n",
              "    </tr>\n",
              "  </thead>\n",
              "  <tbody>\n",
              "    <tr>\n",
              "      <th>742966</th>\n",
              "      <td>0</td>\n",
              "      <td>2266703022</td>\n",
              "      <td>Sun Jun 21 08:57:45 PDT 2009</td>\n",
              "      <td>NO_QUERY</td>\n",
              "      <td>chaqueta</td>\n",
              "      <td>@natters1210 your avatar is a big x on my comp...</td>\n",
              "    </tr>\n",
              "    <tr>\n",
              "      <th>716869</th>\n",
              "      <td>0</td>\n",
              "      <td>2259827962</td>\n",
              "      <td>Sat Jun 20 18:13:42 PDT 2009</td>\n",
              "      <td>NO_QUERY</td>\n",
              "      <td>seylind</td>\n",
              "      <td>We won silver yesturday \\/ pero sayang yung gold</td>\n",
              "    </tr>\n",
              "    <tr>\n",
              "      <th>790278</th>\n",
              "      <td>0</td>\n",
              "      <td>2325616986</td>\n",
              "      <td>Thu Jun 25 05:46:33 PDT 2009</td>\n",
              "      <td>NO_QUERY</td>\n",
              "      <td>JayLauretta</td>\n",
              "      <td>@jyeags Just saw this reply. $3.50 is a hell o...</td>\n",
              "    </tr>\n",
              "    <tr>\n",
              "      <th>184709</th>\n",
              "      <td>0</td>\n",
              "      <td>1967780992</td>\n",
              "      <td>Fri May 29 20:12:00 PDT 2009</td>\n",
              "      <td>NO_QUERY</td>\n",
              "      <td>gudrunhaider</td>\n",
              "      <td>Playing piano for a little while because soon ...</td>\n",
              "    </tr>\n",
              "    <tr>\n",
              "      <th>30431</th>\n",
              "      <td>0</td>\n",
              "      <td>1563765840</td>\n",
              "      <td>Mon Apr 20 00:10:14 PDT 2009</td>\n",
              "      <td>NO_QUERY</td>\n",
              "      <td>petpal102</td>\n",
              "      <td>depression sucks</td>\n",
              "    </tr>\n",
              "    <tr>\n",
              "      <th>684867</th>\n",
              "      <td>0</td>\n",
              "      <td>2250627604</td>\n",
              "      <td>Sat Jun 20 01:02:21 PDT 2009</td>\n",
              "      <td>NO_QUERY</td>\n",
              "      <td>SweetLovelyYJ</td>\n",
              "      <td>It is so................................. boring</td>\n",
              "    </tr>\n",
              "    <tr>\n",
              "      <th>128140</th>\n",
              "      <td>0</td>\n",
              "      <td>1834857319</td>\n",
              "      <td>Mon May 18 04:25:34 PDT 2009</td>\n",
              "      <td>NO_QUERY</td>\n",
              "      <td>davideggleton</td>\n",
              "      <td>@Bdav me too, I only found out about it a few ...</td>\n",
              "    </tr>\n",
              "    <tr>\n",
              "      <th>465577</th>\n",
              "      <td>0</td>\n",
              "      <td>2175380666</td>\n",
              "      <td>Mon Jun 15 00:49:43 PDT 2009</td>\n",
              "      <td>NO_QUERY</td>\n",
              "      <td>MarKusLambert</td>\n",
              "      <td>@mikalahgordon I wanna be there with you!!  I ...</td>\n",
              "    </tr>\n",
              "    <tr>\n",
              "      <th>487009</th>\n",
              "      <td>0</td>\n",
              "      <td>2181873469</td>\n",
              "      <td>Mon Jun 15 12:24:52 PDT 2009</td>\n",
              "      <td>NO_QUERY</td>\n",
              "      <td>Abeillee</td>\n",
              "      <td>@RemiDanaeJ HEY YOU LOL. I can't beleive I joi...</td>\n",
              "    </tr>\n",
              "    <tr>\n",
              "      <th>669564</th>\n",
              "      <td>0</td>\n",
              "      <td>2246293761</td>\n",
              "      <td>Fri Jun 19 17:22:47 PDT 2009</td>\n",
              "      <td>NO_QUERY</td>\n",
              "      <td>iAmTarynItUp</td>\n",
              "      <td>@simplyminda so u either got the pic or NOT bi...</td>\n",
              "    </tr>\n",
              "    <tr>\n",
              "      <th>358818</th>\n",
              "      <td>0</td>\n",
              "      <td>2045469041</td>\n",
              "      <td>Fri Jun 05 10:46:18 PDT 2009</td>\n",
              "      <td>NO_QUERY</td>\n",
              "      <td>Fairymoonbeam</td>\n",
              "      <td>@alan0606 now how would I get that??? Fraid I ...</td>\n",
              "    </tr>\n",
              "    <tr>\n",
              "      <th>485602</th>\n",
              "      <td>0</td>\n",
              "      <td>2181196301</td>\n",
              "      <td>Mon Jun 15 11:29:58 PDT 2009</td>\n",
              "      <td>NO_QUERY</td>\n",
              "      <td>kzzinsky</td>\n",
              "      <td>: Perhaps the worst First Day Back From Holida...</td>\n",
              "    </tr>\n",
              "    <tr>\n",
              "      <th>496185</th>\n",
              "      <td>0</td>\n",
              "      <td>2185468288</td>\n",
              "      <td>Mon Jun 15 17:25:38 PDT 2009</td>\n",
              "      <td>NO_QUERY</td>\n",
              "      <td>soybub</td>\n",
              "      <td>Can't bring myself to try the new Vegemite</td>\n",
              "    </tr>\n",
              "    <tr>\n",
              "      <th>352201</th>\n",
              "      <td>0</td>\n",
              "      <td>2030657132</td>\n",
              "      <td>Thu Jun 04 08:41:33 PDT 2009</td>\n",
              "      <td>NO_QUERY</td>\n",
              "      <td>a220life</td>\n",
              "      <td>Is grieving that he will be unable to attend h...</td>\n",
              "    </tr>\n",
              "    <tr>\n",
              "      <th>355837</th>\n",
              "      <td>0</td>\n",
              "      <td>2044069316</td>\n",
              "      <td>Fri Jun 05 08:49:30 PDT 2009</td>\n",
              "      <td>NO_QUERY</td>\n",
              "      <td>lejlaxo</td>\n",
              "      <td>@selenagomez That blog post is all over the In...</td>\n",
              "    </tr>\n",
              "  </tbody>\n",
              "</table>\n",
              "</div>\n",
              "      <button class=\"colab-df-convert\" onclick=\"convertToInteractive('df-24c69c4d-fa9c-4389-ab7a-18d95b7f8a8e')\"\n",
              "              title=\"Convert this dataframe to an interactive table.\"\n",
              "              style=\"display:none;\">\n",
              "        \n",
              "  <svg xmlns=\"http://www.w3.org/2000/svg\" height=\"24px\"viewBox=\"0 0 24 24\"\n",
              "       width=\"24px\">\n",
              "    <path d=\"M0 0h24v24H0V0z\" fill=\"none\"/>\n",
              "    <path d=\"M18.56 5.44l.94 2.06.94-2.06 2.06-.94-2.06-.94-.94-2.06-.94 2.06-2.06.94zm-11 1L8.5 8.5l.94-2.06 2.06-.94-2.06-.94L8.5 2.5l-.94 2.06-2.06.94zm10 10l.94 2.06.94-2.06 2.06-.94-2.06-.94-.94-2.06-.94 2.06-2.06.94z\"/><path d=\"M17.41 7.96l-1.37-1.37c-.4-.4-.92-.59-1.43-.59-.52 0-1.04.2-1.43.59L10.3 9.45l-7.72 7.72c-.78.78-.78 2.05 0 2.83L4 21.41c.39.39.9.59 1.41.59.51 0 1.02-.2 1.41-.59l7.78-7.78 2.81-2.81c.8-.78.8-2.07 0-2.86zM5.41 20L4 18.59l7.72-7.72 1.47 1.35L5.41 20z\"/>\n",
              "  </svg>\n",
              "      </button>\n",
              "      \n",
              "  <style>\n",
              "    .colab-df-container {\n",
              "      display:flex;\n",
              "      flex-wrap:wrap;\n",
              "      gap: 12px;\n",
              "    }\n",
              "\n",
              "    .colab-df-convert {\n",
              "      background-color: #E8F0FE;\n",
              "      border: none;\n",
              "      border-radius: 50%;\n",
              "      cursor: pointer;\n",
              "      display: none;\n",
              "      fill: #1967D2;\n",
              "      height: 32px;\n",
              "      padding: 0 0 0 0;\n",
              "      width: 32px;\n",
              "    }\n",
              "\n",
              "    .colab-df-convert:hover {\n",
              "      background-color: #E2EBFA;\n",
              "      box-shadow: 0px 1px 2px rgba(60, 64, 67, 0.3), 0px 1px 3px 1px rgba(60, 64, 67, 0.15);\n",
              "      fill: #174EA6;\n",
              "    }\n",
              "\n",
              "    [theme=dark] .colab-df-convert {\n",
              "      background-color: #3B4455;\n",
              "      fill: #D2E3FC;\n",
              "    }\n",
              "\n",
              "    [theme=dark] .colab-df-convert:hover {\n",
              "      background-color: #434B5C;\n",
              "      box-shadow: 0px 1px 3px 1px rgba(0, 0, 0, 0.15);\n",
              "      filter: drop-shadow(0px 1px 2px rgba(0, 0, 0, 0.3));\n",
              "      fill: #FFFFFF;\n",
              "    }\n",
              "  </style>\n",
              "\n",
              "      <script>\n",
              "        const buttonEl =\n",
              "          document.querySelector('#df-24c69c4d-fa9c-4389-ab7a-18d95b7f8a8e button.colab-df-convert');\n",
              "        buttonEl.style.display =\n",
              "          google.colab.kernel.accessAllowed ? 'block' : 'none';\n",
              "\n",
              "        async function convertToInteractive(key) {\n",
              "          const element = document.querySelector('#df-24c69c4d-fa9c-4389-ab7a-18d95b7f8a8e');\n",
              "          const dataTable =\n",
              "            await google.colab.kernel.invokeFunction('convertToInteractive',\n",
              "                                                     [key], {});\n",
              "          if (!dataTable) return;\n",
              "\n",
              "          const docLinkHtml = 'Like what you see? Visit the ' +\n",
              "            '<a target=\"_blank\" href=https://colab.research.google.com/notebooks/data_table.ipynb>data table notebook</a>'\n",
              "            + ' to learn more about interactive tables.';\n",
              "          element.innerHTML = '';\n",
              "          dataTable['output_type'] = 'display_data';\n",
              "          await google.colab.output.renderOutput(dataTable, element);\n",
              "          const docLink = document.createElement('div');\n",
              "          docLink.innerHTML = docLinkHtml;\n",
              "          element.appendChild(docLink);\n",
              "        }\n",
              "      </script>\n",
              "    </div>\n",
              "  </div>\n",
              "  "
            ]
          },
          "metadata": {},
          "execution_count": 22
        }
      ]
    },
    {
      "cell_type": "code",
      "source": [
        "data[data['target']== 4].sample(9)"
      ],
      "metadata": {
        "colab": {
          "base_uri": "https://localhost:8080/",
          "height": 332
        },
        "id": "e-tw_KW9btrw",
        "outputId": "02d0142d-f7a8-4fb7-e427-060814945c0f"
      },
      "execution_count": 23,
      "outputs": [
        {
          "output_type": "execute_result",
          "data": {
            "text/plain": [
              "         target         ids                          date      flag  \\\n",
              "958131        4  1825635881  Sun May 17 06:22:20 PDT 2009  NO_QUERY   \n",
              "1484880       4  2067748748  Sun Jun 07 12:53:31 PDT 2009  NO_QUERY   \n",
              "962010        4  1827199039  Sun May 17 10:12:09 PDT 2009  NO_QUERY   \n",
              "1554292       4  2184831393  Mon Jun 15 16:29:10 PDT 2009  NO_QUERY   \n",
              "1344507       4  2039885289  Thu Jun 04 23:03:29 PDT 2009  NO_QUERY   \n",
              "1380285       4  2052227289  Sat Jun 06 00:02:51 PDT 2009  NO_QUERY   \n",
              "1058482       4  1962940781  Fri May 29 11:57:33 PDT 2009  NO_QUERY   \n",
              "1199804       4  1985380597  Sun May 31 16:59:53 PDT 2009  NO_QUERY   \n",
              "1487630       4  2068315600  Sun Jun 07 13:52:28 PDT 2009  NO_QUERY   \n",
              "\n",
              "                    user                                               text  \n",
              "958131     checkerz_1220  http://twitpic.com/5cwn5 - This was acting, ok...  \n",
              "1484880        BLACKMARS                        see u later my friend !!!!   \n",
              "962010   HayleyLovesNoel  @emzmccaw  i think the lead singer Billie joe ...  \n",
              "1554292      jaimekelley  i love you so freakin' much! i just wanna kiss...  \n",
              "1344507    SunnySoPretty                  Btw I Completed Day 3 w. No Meat   \n",
              "1380285        NikkiBenz               @badartie thank u. I was crazy busy   \n",
              "1058482      mudandgears  Is there anything better than a bike ride in t...  \n",
              "1199804        jgreenler  @sylven OK. For tonight only. No hundred dolla...  \n",
              "1487630       egg1111115  Everybody: follow @ExtraLives if you like vide...  "
            ],
            "text/html": [
              "\n",
              "  <div id=\"df-3814567e-bd63-4a17-bd6a-3f5b6895cc4f\">\n",
              "    <div class=\"colab-df-container\">\n",
              "      <div>\n",
              "<style scoped>\n",
              "    .dataframe tbody tr th:only-of-type {\n",
              "        vertical-align: middle;\n",
              "    }\n",
              "\n",
              "    .dataframe tbody tr th {\n",
              "        vertical-align: top;\n",
              "    }\n",
              "\n",
              "    .dataframe thead th {\n",
              "        text-align: right;\n",
              "    }\n",
              "</style>\n",
              "<table border=\"1\" class=\"dataframe\">\n",
              "  <thead>\n",
              "    <tr style=\"text-align: right;\">\n",
              "      <th></th>\n",
              "      <th>target</th>\n",
              "      <th>ids</th>\n",
              "      <th>date</th>\n",
              "      <th>flag</th>\n",
              "      <th>user</th>\n",
              "      <th>text</th>\n",
              "    </tr>\n",
              "  </thead>\n",
              "  <tbody>\n",
              "    <tr>\n",
              "      <th>958131</th>\n",
              "      <td>4</td>\n",
              "      <td>1825635881</td>\n",
              "      <td>Sun May 17 06:22:20 PDT 2009</td>\n",
              "      <td>NO_QUERY</td>\n",
              "      <td>checkerz_1220</td>\n",
              "      <td>http://twitpic.com/5cwn5 - This was acting, ok...</td>\n",
              "    </tr>\n",
              "    <tr>\n",
              "      <th>1484880</th>\n",
              "      <td>4</td>\n",
              "      <td>2067748748</td>\n",
              "      <td>Sun Jun 07 12:53:31 PDT 2009</td>\n",
              "      <td>NO_QUERY</td>\n",
              "      <td>BLACKMARS</td>\n",
              "      <td>see u later my friend !!!!</td>\n",
              "    </tr>\n",
              "    <tr>\n",
              "      <th>962010</th>\n",
              "      <td>4</td>\n",
              "      <td>1827199039</td>\n",
              "      <td>Sun May 17 10:12:09 PDT 2009</td>\n",
              "      <td>NO_QUERY</td>\n",
              "      <td>HayleyLovesNoel</td>\n",
              "      <td>@emzmccaw  i think the lead singer Billie joe ...</td>\n",
              "    </tr>\n",
              "    <tr>\n",
              "      <th>1554292</th>\n",
              "      <td>4</td>\n",
              "      <td>2184831393</td>\n",
              "      <td>Mon Jun 15 16:29:10 PDT 2009</td>\n",
              "      <td>NO_QUERY</td>\n",
              "      <td>jaimekelley</td>\n",
              "      <td>i love you so freakin' much! i just wanna kiss...</td>\n",
              "    </tr>\n",
              "    <tr>\n",
              "      <th>1344507</th>\n",
              "      <td>4</td>\n",
              "      <td>2039885289</td>\n",
              "      <td>Thu Jun 04 23:03:29 PDT 2009</td>\n",
              "      <td>NO_QUERY</td>\n",
              "      <td>SunnySoPretty</td>\n",
              "      <td>Btw I Completed Day 3 w. No Meat</td>\n",
              "    </tr>\n",
              "    <tr>\n",
              "      <th>1380285</th>\n",
              "      <td>4</td>\n",
              "      <td>2052227289</td>\n",
              "      <td>Sat Jun 06 00:02:51 PDT 2009</td>\n",
              "      <td>NO_QUERY</td>\n",
              "      <td>NikkiBenz</td>\n",
              "      <td>@badartie thank u. I was crazy busy</td>\n",
              "    </tr>\n",
              "    <tr>\n",
              "      <th>1058482</th>\n",
              "      <td>4</td>\n",
              "      <td>1962940781</td>\n",
              "      <td>Fri May 29 11:57:33 PDT 2009</td>\n",
              "      <td>NO_QUERY</td>\n",
              "      <td>mudandgears</td>\n",
              "      <td>Is there anything better than a bike ride in t...</td>\n",
              "    </tr>\n",
              "    <tr>\n",
              "      <th>1199804</th>\n",
              "      <td>4</td>\n",
              "      <td>1985380597</td>\n",
              "      <td>Sun May 31 16:59:53 PDT 2009</td>\n",
              "      <td>NO_QUERY</td>\n",
              "      <td>jgreenler</td>\n",
              "      <td>@sylven OK. For tonight only. No hundred dolla...</td>\n",
              "    </tr>\n",
              "    <tr>\n",
              "      <th>1487630</th>\n",
              "      <td>4</td>\n",
              "      <td>2068315600</td>\n",
              "      <td>Sun Jun 07 13:52:28 PDT 2009</td>\n",
              "      <td>NO_QUERY</td>\n",
              "      <td>egg1111115</td>\n",
              "      <td>Everybody: follow @ExtraLives if you like vide...</td>\n",
              "    </tr>\n",
              "  </tbody>\n",
              "</table>\n",
              "</div>\n",
              "      <button class=\"colab-df-convert\" onclick=\"convertToInteractive('df-3814567e-bd63-4a17-bd6a-3f5b6895cc4f')\"\n",
              "              title=\"Convert this dataframe to an interactive table.\"\n",
              "              style=\"display:none;\">\n",
              "        \n",
              "  <svg xmlns=\"http://www.w3.org/2000/svg\" height=\"24px\"viewBox=\"0 0 24 24\"\n",
              "       width=\"24px\">\n",
              "    <path d=\"M0 0h24v24H0V0z\" fill=\"none\"/>\n",
              "    <path d=\"M18.56 5.44l.94 2.06.94-2.06 2.06-.94-2.06-.94-.94-2.06-.94 2.06-2.06.94zm-11 1L8.5 8.5l.94-2.06 2.06-.94-2.06-.94L8.5 2.5l-.94 2.06-2.06.94zm10 10l.94 2.06.94-2.06 2.06-.94-2.06-.94-.94-2.06-.94 2.06-2.06.94z\"/><path d=\"M17.41 7.96l-1.37-1.37c-.4-.4-.92-.59-1.43-.59-.52 0-1.04.2-1.43.59L10.3 9.45l-7.72 7.72c-.78.78-.78 2.05 0 2.83L4 21.41c.39.39.9.59 1.41.59.51 0 1.02-.2 1.41-.59l7.78-7.78 2.81-2.81c.8-.78.8-2.07 0-2.86zM5.41 20L4 18.59l7.72-7.72 1.47 1.35L5.41 20z\"/>\n",
              "  </svg>\n",
              "      </button>\n",
              "      \n",
              "  <style>\n",
              "    .colab-df-container {\n",
              "      display:flex;\n",
              "      flex-wrap:wrap;\n",
              "      gap: 12px;\n",
              "    }\n",
              "\n",
              "    .colab-df-convert {\n",
              "      background-color: #E8F0FE;\n",
              "      border: none;\n",
              "      border-radius: 50%;\n",
              "      cursor: pointer;\n",
              "      display: none;\n",
              "      fill: #1967D2;\n",
              "      height: 32px;\n",
              "      padding: 0 0 0 0;\n",
              "      width: 32px;\n",
              "    }\n",
              "\n",
              "    .colab-df-convert:hover {\n",
              "      background-color: #E2EBFA;\n",
              "      box-shadow: 0px 1px 2px rgba(60, 64, 67, 0.3), 0px 1px 3px 1px rgba(60, 64, 67, 0.15);\n",
              "      fill: #174EA6;\n",
              "    }\n",
              "\n",
              "    [theme=dark] .colab-df-convert {\n",
              "      background-color: #3B4455;\n",
              "      fill: #D2E3FC;\n",
              "    }\n",
              "\n",
              "    [theme=dark] .colab-df-convert:hover {\n",
              "      background-color: #434B5C;\n",
              "      box-shadow: 0px 1px 3px 1px rgba(0, 0, 0, 0.15);\n",
              "      filter: drop-shadow(0px 1px 2px rgba(0, 0, 0, 0.3));\n",
              "      fill: #FFFFFF;\n",
              "    }\n",
              "  </style>\n",
              "\n",
              "      <script>\n",
              "        const buttonEl =\n",
              "          document.querySelector('#df-3814567e-bd63-4a17-bd6a-3f5b6895cc4f button.colab-df-convert');\n",
              "        buttonEl.style.display =\n",
              "          google.colab.kernel.accessAllowed ? 'block' : 'none';\n",
              "\n",
              "        async function convertToInteractive(key) {\n",
              "          const element = document.querySelector('#df-3814567e-bd63-4a17-bd6a-3f5b6895cc4f');\n",
              "          const dataTable =\n",
              "            await google.colab.kernel.invokeFunction('convertToInteractive',\n",
              "                                                     [key], {});\n",
              "          if (!dataTable) return;\n",
              "\n",
              "          const docLinkHtml = 'Like what you see? Visit the ' +\n",
              "            '<a target=\"_blank\" href=https://colab.research.google.com/notebooks/data_table.ipynb>data table notebook</a>'\n",
              "            + ' to learn more about interactive tables.';\n",
              "          element.innerHTML = '';\n",
              "          dataTable['output_type'] = 'display_data';\n",
              "          await google.colab.output.renderOutput(dataTable, element);\n",
              "          const docLink = document.createElement('div');\n",
              "          docLink.innerHTML = docLinkHtml;\n",
              "          element.appendChild(docLink);\n",
              "        }\n",
              "      </script>\n",
              "    </div>\n",
              "  </div>\n",
              "  "
            ]
          },
          "metadata": {},
          "execution_count": 23
        }
      ]
    },
    {
      "cell_type": "markdown",
      "source": [
        "# Preprocessing\n",
        "\n",
        "Teraz jak wiemy z czym mamy do czynienia, zacznijmy od czyszczenia danych. Po pierwsze, skopiuj do nowej tabelki tylko kolumny `text` i `target`, a w kolumnie `target` zmień wartość 4 na 1. Można to zrobić metodą `replace` z parameterem `inplace` ustawionym na `True`."
      ],
      "metadata": {
        "id": "1zMskgUknFle"
      }
    },
    {
      "cell_type": "code",
      "source": [
        "df0 = data.copy()\n",
        "df = df0.filter(['text','target'], axis=1)\n",
        "df['target'] = df['target'].replace([4], 1)"
      ],
      "metadata": {
        "id": "nqHmD7vZm2XY"
      },
      "execution_count": 26,
      "outputs": []
    },
    {
      "cell_type": "code",
      "source": [
        "#df = df0.filter(['text','target'], axis=1)\n",
        "#\n",
        "df"
      ],
      "metadata": {
        "colab": {
          "base_uri": "https://localhost:8080/",
          "height": 424
        },
        "id": "gVJ2fHwBb_3Q",
        "outputId": "77fbb5db-3d43-49a1-fbe5-7b0d8ced8599"
      },
      "execution_count": 30,
      "outputs": [
        {
          "output_type": "execute_result",
          "data": {
            "text/plain": [
              "                                                      text  target\n",
              "0        @switchfoot http://twitpic.com/2y1zl - Awww, t...       0\n",
              "1        is upset that he can't update his Facebook by ...       0\n",
              "2        @Kenichan I dived many times for the ball. Man...       0\n",
              "3          my whole body feels itchy and like its on fire        0\n",
              "4        @nationwideclass no, it's not behaving at all....       0\n",
              "...                                                    ...     ...\n",
              "1599995  Just woke up. Having no school is the best fee...       1\n",
              "1599996  TheWDB.com - Very cool to hear old Walt interv...       1\n",
              "1599997  Are you ready for your MoJo Makeover? Ask me f...       1\n",
              "1599998  Happy 38th Birthday to my boo of alll time!!! ...       1\n",
              "1599999  happy #charitytuesday @theNSPCC @SparksCharity...       1\n",
              "\n",
              "[1600000 rows x 2 columns]"
            ],
            "text/html": [
              "\n",
              "  <div id=\"df-49388f69-a118-4299-87c7-be19a4f2fe2c\">\n",
              "    <div class=\"colab-df-container\">\n",
              "      <div>\n",
              "<style scoped>\n",
              "    .dataframe tbody tr th:only-of-type {\n",
              "        vertical-align: middle;\n",
              "    }\n",
              "\n",
              "    .dataframe tbody tr th {\n",
              "        vertical-align: top;\n",
              "    }\n",
              "\n",
              "    .dataframe thead th {\n",
              "        text-align: right;\n",
              "    }\n",
              "</style>\n",
              "<table border=\"1\" class=\"dataframe\">\n",
              "  <thead>\n",
              "    <tr style=\"text-align: right;\">\n",
              "      <th></th>\n",
              "      <th>text</th>\n",
              "      <th>target</th>\n",
              "    </tr>\n",
              "  </thead>\n",
              "  <tbody>\n",
              "    <tr>\n",
              "      <th>0</th>\n",
              "      <td>@switchfoot http://twitpic.com/2y1zl - Awww, t...</td>\n",
              "      <td>0</td>\n",
              "    </tr>\n",
              "    <tr>\n",
              "      <th>1</th>\n",
              "      <td>is upset that he can't update his Facebook by ...</td>\n",
              "      <td>0</td>\n",
              "    </tr>\n",
              "    <tr>\n",
              "      <th>2</th>\n",
              "      <td>@Kenichan I dived many times for the ball. Man...</td>\n",
              "      <td>0</td>\n",
              "    </tr>\n",
              "    <tr>\n",
              "      <th>3</th>\n",
              "      <td>my whole body feels itchy and like its on fire</td>\n",
              "      <td>0</td>\n",
              "    </tr>\n",
              "    <tr>\n",
              "      <th>4</th>\n",
              "      <td>@nationwideclass no, it's not behaving at all....</td>\n",
              "      <td>0</td>\n",
              "    </tr>\n",
              "    <tr>\n",
              "      <th>...</th>\n",
              "      <td>...</td>\n",
              "      <td>...</td>\n",
              "    </tr>\n",
              "    <tr>\n",
              "      <th>1599995</th>\n",
              "      <td>Just woke up. Having no school is the best fee...</td>\n",
              "      <td>1</td>\n",
              "    </tr>\n",
              "    <tr>\n",
              "      <th>1599996</th>\n",
              "      <td>TheWDB.com - Very cool to hear old Walt interv...</td>\n",
              "      <td>1</td>\n",
              "    </tr>\n",
              "    <tr>\n",
              "      <th>1599997</th>\n",
              "      <td>Are you ready for your MoJo Makeover? Ask me f...</td>\n",
              "      <td>1</td>\n",
              "    </tr>\n",
              "    <tr>\n",
              "      <th>1599998</th>\n",
              "      <td>Happy 38th Birthday to my boo of alll time!!! ...</td>\n",
              "      <td>1</td>\n",
              "    </tr>\n",
              "    <tr>\n",
              "      <th>1599999</th>\n",
              "      <td>happy #charitytuesday @theNSPCC @SparksCharity...</td>\n",
              "      <td>1</td>\n",
              "    </tr>\n",
              "  </tbody>\n",
              "</table>\n",
              "<p>1600000 rows × 2 columns</p>\n",
              "</div>\n",
              "      <button class=\"colab-df-convert\" onclick=\"convertToInteractive('df-49388f69-a118-4299-87c7-be19a4f2fe2c')\"\n",
              "              title=\"Convert this dataframe to an interactive table.\"\n",
              "              style=\"display:none;\">\n",
              "        \n",
              "  <svg xmlns=\"http://www.w3.org/2000/svg\" height=\"24px\"viewBox=\"0 0 24 24\"\n",
              "       width=\"24px\">\n",
              "    <path d=\"M0 0h24v24H0V0z\" fill=\"none\"/>\n",
              "    <path d=\"M18.56 5.44l.94 2.06.94-2.06 2.06-.94-2.06-.94-.94-2.06-.94 2.06-2.06.94zm-11 1L8.5 8.5l.94-2.06 2.06-.94-2.06-.94L8.5 2.5l-.94 2.06-2.06.94zm10 10l.94 2.06.94-2.06 2.06-.94-2.06-.94-.94-2.06-.94 2.06-2.06.94z\"/><path d=\"M17.41 7.96l-1.37-1.37c-.4-.4-.92-.59-1.43-.59-.52 0-1.04.2-1.43.59L10.3 9.45l-7.72 7.72c-.78.78-.78 2.05 0 2.83L4 21.41c.39.39.9.59 1.41.59.51 0 1.02-.2 1.41-.59l7.78-7.78 2.81-2.81c.8-.78.8-2.07 0-2.86zM5.41 20L4 18.59l7.72-7.72 1.47 1.35L5.41 20z\"/>\n",
              "  </svg>\n",
              "      </button>\n",
              "      \n",
              "  <style>\n",
              "    .colab-df-container {\n",
              "      display:flex;\n",
              "      flex-wrap:wrap;\n",
              "      gap: 12px;\n",
              "    }\n",
              "\n",
              "    .colab-df-convert {\n",
              "      background-color: #E8F0FE;\n",
              "      border: none;\n",
              "      border-radius: 50%;\n",
              "      cursor: pointer;\n",
              "      display: none;\n",
              "      fill: #1967D2;\n",
              "      height: 32px;\n",
              "      padding: 0 0 0 0;\n",
              "      width: 32px;\n",
              "    }\n",
              "\n",
              "    .colab-df-convert:hover {\n",
              "      background-color: #E2EBFA;\n",
              "      box-shadow: 0px 1px 2px rgba(60, 64, 67, 0.3), 0px 1px 3px 1px rgba(60, 64, 67, 0.15);\n",
              "      fill: #174EA6;\n",
              "    }\n",
              "\n",
              "    [theme=dark] .colab-df-convert {\n",
              "      background-color: #3B4455;\n",
              "      fill: #D2E3FC;\n",
              "    }\n",
              "\n",
              "    [theme=dark] .colab-df-convert:hover {\n",
              "      background-color: #434B5C;\n",
              "      box-shadow: 0px 1px 3px 1px rgba(0, 0, 0, 0.15);\n",
              "      filter: drop-shadow(0px 1px 2px rgba(0, 0, 0, 0.3));\n",
              "      fill: #FFFFFF;\n",
              "    }\n",
              "  </style>\n",
              "\n",
              "      <script>\n",
              "        const buttonEl =\n",
              "          document.querySelector('#df-49388f69-a118-4299-87c7-be19a4f2fe2c button.colab-df-convert');\n",
              "        buttonEl.style.display =\n",
              "          google.colab.kernel.accessAllowed ? 'block' : 'none';\n",
              "\n",
              "        async function convertToInteractive(key) {\n",
              "          const element = document.querySelector('#df-49388f69-a118-4299-87c7-be19a4f2fe2c');\n",
              "          const dataTable =\n",
              "            await google.colab.kernel.invokeFunction('convertToInteractive',\n",
              "                                                     [key], {});\n",
              "          if (!dataTable) return;\n",
              "\n",
              "          const docLinkHtml = 'Like what you see? Visit the ' +\n",
              "            '<a target=\"_blank\" href=https://colab.research.google.com/notebooks/data_table.ipynb>data table notebook</a>'\n",
              "            + ' to learn more about interactive tables.';\n",
              "          element.innerHTML = '';\n",
              "          dataTable['output_type'] = 'display_data';\n",
              "          await google.colab.output.renderOutput(dataTable, element);\n",
              "          const docLink = document.createElement('div');\n",
              "          docLink.innerHTML = docLinkHtml;\n",
              "          element.appendChild(docLink);\n",
              "        }\n",
              "      </script>\n",
              "    </div>\n",
              "  </div>\n",
              "  "
            ]
          },
          "metadata": {},
          "execution_count": 30
        }
      ]
    },
    {
      "cell_type": "markdown",
      "source": [
        "Teraz zamień wszystkie teksty w kolumnie `text` na małe litery (metodą `str.lower()`). Użyj do tego metody `apply` na kolumnie `text`. Niestety metoda ta nie posiada atrybutu `inplace` więc należy ręcznie nadpisać kolumnę nowymi wartościami."
      ],
      "metadata": {
        "id": "YrSoi8rL_3NV"
      }
    },
    {
      "cell_type": "code",
      "source": [
        "def lower(t):\n",
        "  return str.lower(t)\n",
        "\n",
        "df['lowtext'] = df['text'].apply(lower)"
      ],
      "metadata": {
        "id": "ufyqlCY5fwT0"
      },
      "execution_count": 32,
      "outputs": []
    },
    {
      "cell_type": "code",
      "source": [
        "# na razie nie usuwam kolumny 'text' ale jesli zechcę to: df = df.drop('column_name', axis=1)"
      ],
      "metadata": {
        "id": "vnspBc0cfyTC"
      },
      "execution_count": 33,
      "outputs": []
    },
    {
      "cell_type": "code",
      "source": [
        "df"
      ],
      "metadata": {
        "colab": {
          "base_uri": "https://localhost:8080/",
          "height": 424
        },
        "id": "XFalc9kwf_XM",
        "outputId": "6fc289be-c239-42a9-c43d-ee7e7fcb0dbe"
      },
      "execution_count": 34,
      "outputs": [
        {
          "output_type": "execute_result",
          "data": {
            "text/plain": [
              "                                                      text  target  \\\n",
              "0        @switchfoot http://twitpic.com/2y1zl - Awww, t...       0   \n",
              "1        is upset that he can't update his Facebook by ...       0   \n",
              "2        @Kenichan I dived many times for the ball. Man...       0   \n",
              "3          my whole body feels itchy and like its on fire        0   \n",
              "4        @nationwideclass no, it's not behaving at all....       0   \n",
              "...                                                    ...     ...   \n",
              "1599995  Just woke up. Having no school is the best fee...       1   \n",
              "1599996  TheWDB.com - Very cool to hear old Walt interv...       1   \n",
              "1599997  Are you ready for your MoJo Makeover? Ask me f...       1   \n",
              "1599998  Happy 38th Birthday to my boo of alll time!!! ...       1   \n",
              "1599999  happy #charitytuesday @theNSPCC @SparksCharity...       1   \n",
              "\n",
              "                                                   lowtext  \n",
              "0        @switchfoot http://twitpic.com/2y1zl - awww, t...  \n",
              "1        is upset that he can't update his facebook by ...  \n",
              "2        @kenichan i dived many times for the ball. man...  \n",
              "3          my whole body feels itchy and like its on fire   \n",
              "4        @nationwideclass no, it's not behaving at all....  \n",
              "...                                                    ...  \n",
              "1599995  just woke up. having no school is the best fee...  \n",
              "1599996  thewdb.com - very cool to hear old walt interv...  \n",
              "1599997  are you ready for your mojo makeover? ask me f...  \n",
              "1599998  happy 38th birthday to my boo of alll time!!! ...  \n",
              "1599999  happy #charitytuesday @thenspcc @sparkscharity...  \n",
              "\n",
              "[1600000 rows x 3 columns]"
            ],
            "text/html": [
              "\n",
              "  <div id=\"df-f2c4f32a-aa9a-4cae-a3ee-78a5bdbd2687\">\n",
              "    <div class=\"colab-df-container\">\n",
              "      <div>\n",
              "<style scoped>\n",
              "    .dataframe tbody tr th:only-of-type {\n",
              "        vertical-align: middle;\n",
              "    }\n",
              "\n",
              "    .dataframe tbody tr th {\n",
              "        vertical-align: top;\n",
              "    }\n",
              "\n",
              "    .dataframe thead th {\n",
              "        text-align: right;\n",
              "    }\n",
              "</style>\n",
              "<table border=\"1\" class=\"dataframe\">\n",
              "  <thead>\n",
              "    <tr style=\"text-align: right;\">\n",
              "      <th></th>\n",
              "      <th>text</th>\n",
              "      <th>target</th>\n",
              "      <th>lowtext</th>\n",
              "    </tr>\n",
              "  </thead>\n",
              "  <tbody>\n",
              "    <tr>\n",
              "      <th>0</th>\n",
              "      <td>@switchfoot http://twitpic.com/2y1zl - Awww, t...</td>\n",
              "      <td>0</td>\n",
              "      <td>@switchfoot http://twitpic.com/2y1zl - awww, t...</td>\n",
              "    </tr>\n",
              "    <tr>\n",
              "      <th>1</th>\n",
              "      <td>is upset that he can't update his Facebook by ...</td>\n",
              "      <td>0</td>\n",
              "      <td>is upset that he can't update his facebook by ...</td>\n",
              "    </tr>\n",
              "    <tr>\n",
              "      <th>2</th>\n",
              "      <td>@Kenichan I dived many times for the ball. Man...</td>\n",
              "      <td>0</td>\n",
              "      <td>@kenichan i dived many times for the ball. man...</td>\n",
              "    </tr>\n",
              "    <tr>\n",
              "      <th>3</th>\n",
              "      <td>my whole body feels itchy and like its on fire</td>\n",
              "      <td>0</td>\n",
              "      <td>my whole body feels itchy and like its on fire</td>\n",
              "    </tr>\n",
              "    <tr>\n",
              "      <th>4</th>\n",
              "      <td>@nationwideclass no, it's not behaving at all....</td>\n",
              "      <td>0</td>\n",
              "      <td>@nationwideclass no, it's not behaving at all....</td>\n",
              "    </tr>\n",
              "    <tr>\n",
              "      <th>...</th>\n",
              "      <td>...</td>\n",
              "      <td>...</td>\n",
              "      <td>...</td>\n",
              "    </tr>\n",
              "    <tr>\n",
              "      <th>1599995</th>\n",
              "      <td>Just woke up. Having no school is the best fee...</td>\n",
              "      <td>1</td>\n",
              "      <td>just woke up. having no school is the best fee...</td>\n",
              "    </tr>\n",
              "    <tr>\n",
              "      <th>1599996</th>\n",
              "      <td>TheWDB.com - Very cool to hear old Walt interv...</td>\n",
              "      <td>1</td>\n",
              "      <td>thewdb.com - very cool to hear old walt interv...</td>\n",
              "    </tr>\n",
              "    <tr>\n",
              "      <th>1599997</th>\n",
              "      <td>Are you ready for your MoJo Makeover? Ask me f...</td>\n",
              "      <td>1</td>\n",
              "      <td>are you ready for your mojo makeover? ask me f...</td>\n",
              "    </tr>\n",
              "    <tr>\n",
              "      <th>1599998</th>\n",
              "      <td>Happy 38th Birthday to my boo of alll time!!! ...</td>\n",
              "      <td>1</td>\n",
              "      <td>happy 38th birthday to my boo of alll time!!! ...</td>\n",
              "    </tr>\n",
              "    <tr>\n",
              "      <th>1599999</th>\n",
              "      <td>happy #charitytuesday @theNSPCC @SparksCharity...</td>\n",
              "      <td>1</td>\n",
              "      <td>happy #charitytuesday @thenspcc @sparkscharity...</td>\n",
              "    </tr>\n",
              "  </tbody>\n",
              "</table>\n",
              "<p>1600000 rows × 3 columns</p>\n",
              "</div>\n",
              "      <button class=\"colab-df-convert\" onclick=\"convertToInteractive('df-f2c4f32a-aa9a-4cae-a3ee-78a5bdbd2687')\"\n",
              "              title=\"Convert this dataframe to an interactive table.\"\n",
              "              style=\"display:none;\">\n",
              "        \n",
              "  <svg xmlns=\"http://www.w3.org/2000/svg\" height=\"24px\"viewBox=\"0 0 24 24\"\n",
              "       width=\"24px\">\n",
              "    <path d=\"M0 0h24v24H0V0z\" fill=\"none\"/>\n",
              "    <path d=\"M18.56 5.44l.94 2.06.94-2.06 2.06-.94-2.06-.94-.94-2.06-.94 2.06-2.06.94zm-11 1L8.5 8.5l.94-2.06 2.06-.94-2.06-.94L8.5 2.5l-.94 2.06-2.06.94zm10 10l.94 2.06.94-2.06 2.06-.94-2.06-.94-.94-2.06-.94 2.06-2.06.94z\"/><path d=\"M17.41 7.96l-1.37-1.37c-.4-.4-.92-.59-1.43-.59-.52 0-1.04.2-1.43.59L10.3 9.45l-7.72 7.72c-.78.78-.78 2.05 0 2.83L4 21.41c.39.39.9.59 1.41.59.51 0 1.02-.2 1.41-.59l7.78-7.78 2.81-2.81c.8-.78.8-2.07 0-2.86zM5.41 20L4 18.59l7.72-7.72 1.47 1.35L5.41 20z\"/>\n",
              "  </svg>\n",
              "      </button>\n",
              "      \n",
              "  <style>\n",
              "    .colab-df-container {\n",
              "      display:flex;\n",
              "      flex-wrap:wrap;\n",
              "      gap: 12px;\n",
              "    }\n",
              "\n",
              "    .colab-df-convert {\n",
              "      background-color: #E8F0FE;\n",
              "      border: none;\n",
              "      border-radius: 50%;\n",
              "      cursor: pointer;\n",
              "      display: none;\n",
              "      fill: #1967D2;\n",
              "      height: 32px;\n",
              "      padding: 0 0 0 0;\n",
              "      width: 32px;\n",
              "    }\n",
              "\n",
              "    .colab-df-convert:hover {\n",
              "      background-color: #E2EBFA;\n",
              "      box-shadow: 0px 1px 2px rgba(60, 64, 67, 0.3), 0px 1px 3px 1px rgba(60, 64, 67, 0.15);\n",
              "      fill: #174EA6;\n",
              "    }\n",
              "\n",
              "    [theme=dark] .colab-df-convert {\n",
              "      background-color: #3B4455;\n",
              "      fill: #D2E3FC;\n",
              "    }\n",
              "\n",
              "    [theme=dark] .colab-df-convert:hover {\n",
              "      background-color: #434B5C;\n",
              "      box-shadow: 0px 1px 3px 1px rgba(0, 0, 0, 0.15);\n",
              "      filter: drop-shadow(0px 1px 2px rgba(0, 0, 0, 0.3));\n",
              "      fill: #FFFFFF;\n",
              "    }\n",
              "  </style>\n",
              "\n",
              "      <script>\n",
              "        const buttonEl =\n",
              "          document.querySelector('#df-f2c4f32a-aa9a-4cae-a3ee-78a5bdbd2687 button.colab-df-convert');\n",
              "        buttonEl.style.display =\n",
              "          google.colab.kernel.accessAllowed ? 'block' : 'none';\n",
              "\n",
              "        async function convertToInteractive(key) {\n",
              "          const element = document.querySelector('#df-f2c4f32a-aa9a-4cae-a3ee-78a5bdbd2687');\n",
              "          const dataTable =\n",
              "            await google.colab.kernel.invokeFunction('convertToInteractive',\n",
              "                                                     [key], {});\n",
              "          if (!dataTable) return;\n",
              "\n",
              "          const docLinkHtml = 'Like what you see? Visit the ' +\n",
              "            '<a target=\"_blank\" href=https://colab.research.google.com/notebooks/data_table.ipynb>data table notebook</a>'\n",
              "            + ' to learn more about interactive tables.';\n",
              "          element.innerHTML = '';\n",
              "          dataTable['output_type'] = 'display_data';\n",
              "          await google.colab.output.renderOutput(dataTable, element);\n",
              "          const docLink = document.createElement('div');\n",
              "          docLink.innerHTML = docLinkHtml;\n",
              "          element.appendChild(docLink);\n",
              "        }\n",
              "      </script>\n",
              "    </div>\n",
              "  </div>\n",
              "  "
            ]
          },
          "metadata": {},
          "execution_count": 34
        }
      ]
    },
    {
      "cell_type": "markdown",
      "source": [
        "Teraz użyj biblioteki [re](https://docs.python.org/3/library/re.html) żeby usunąć z tekstu wszystkie URLe - np. wszystkie tokeny oddzielone spacją zaczynające się od `www.` albo `http(s)://`."
      ],
      "metadata": {
        "id": "T6bAqSOkAdQQ"
      }
    },
    {
      "cell_type": "code",
      "source": [
        "def resub(t):\n",
        "  return re.sub(r'''(?i)\\b((?:https?://|www\\d{0,3}[.]|[a-z0-9.\\-]+[.][a-z]{2,4}/)(?:[^\\s()<>]+|\\(([^\\s()<>]+|(\\([^\\s()<>]+\\)))*\\))+(?:\\(([^\\s()<>]+|(\\([^\\s()<>]+\\)))*\\)|[^\\s`!()\\[\\]{};:'\".,<>?«»“”‘’]))''', \"\", t)\n",
        "\n",
        "df['lowtext'] = df['lowtext'].apply(resub)\n",
        "\n",
        "df.head()"
      ],
      "metadata": {
        "colab": {
          "base_uri": "https://localhost:8080/",
          "height": 206
        },
        "id": "kSEji5zth9P5",
        "outputId": "c0e2c596-608b-41de-c948-134861957b53"
      },
      "execution_count": 36,
      "outputs": [
        {
          "output_type": "execute_result",
          "data": {
            "text/plain": [
              "                                                text  target  \\\n",
              "0  @switchfoot http://twitpic.com/2y1zl - Awww, t...       0   \n",
              "1  is upset that he can't update his Facebook by ...       0   \n",
              "2  @Kenichan I dived many times for the ball. Man...       0   \n",
              "3    my whole body feels itchy and like its on fire        0   \n",
              "4  @nationwideclass no, it's not behaving at all....       0   \n",
              "\n",
              "                                             lowtext  \n",
              "0  @switchfoot  - awww, that's a bummer.  you sho...  \n",
              "1  is upset that he can't update his facebook by ...  \n",
              "2  @kenichan i dived many times for the ball. man...  \n",
              "3    my whole body feels itchy and like its on fire   \n",
              "4  @nationwideclass no, it's not behaving at all....  "
            ],
            "text/html": [
              "\n",
              "  <div id=\"df-86a1b79e-7662-480b-82fb-0ea1036aadd3\">\n",
              "    <div class=\"colab-df-container\">\n",
              "      <div>\n",
              "<style scoped>\n",
              "    .dataframe tbody tr th:only-of-type {\n",
              "        vertical-align: middle;\n",
              "    }\n",
              "\n",
              "    .dataframe tbody tr th {\n",
              "        vertical-align: top;\n",
              "    }\n",
              "\n",
              "    .dataframe thead th {\n",
              "        text-align: right;\n",
              "    }\n",
              "</style>\n",
              "<table border=\"1\" class=\"dataframe\">\n",
              "  <thead>\n",
              "    <tr style=\"text-align: right;\">\n",
              "      <th></th>\n",
              "      <th>text</th>\n",
              "      <th>target</th>\n",
              "      <th>lowtext</th>\n",
              "    </tr>\n",
              "  </thead>\n",
              "  <tbody>\n",
              "    <tr>\n",
              "      <th>0</th>\n",
              "      <td>@switchfoot http://twitpic.com/2y1zl - Awww, t...</td>\n",
              "      <td>0</td>\n",
              "      <td>@switchfoot  - awww, that's a bummer.  you sho...</td>\n",
              "    </tr>\n",
              "    <tr>\n",
              "      <th>1</th>\n",
              "      <td>is upset that he can't update his Facebook by ...</td>\n",
              "      <td>0</td>\n",
              "      <td>is upset that he can't update his facebook by ...</td>\n",
              "    </tr>\n",
              "    <tr>\n",
              "      <th>2</th>\n",
              "      <td>@Kenichan I dived many times for the ball. Man...</td>\n",
              "      <td>0</td>\n",
              "      <td>@kenichan i dived many times for the ball. man...</td>\n",
              "    </tr>\n",
              "    <tr>\n",
              "      <th>3</th>\n",
              "      <td>my whole body feels itchy and like its on fire</td>\n",
              "      <td>0</td>\n",
              "      <td>my whole body feels itchy and like its on fire</td>\n",
              "    </tr>\n",
              "    <tr>\n",
              "      <th>4</th>\n",
              "      <td>@nationwideclass no, it's not behaving at all....</td>\n",
              "      <td>0</td>\n",
              "      <td>@nationwideclass no, it's not behaving at all....</td>\n",
              "    </tr>\n",
              "  </tbody>\n",
              "</table>\n",
              "</div>\n",
              "      <button class=\"colab-df-convert\" onclick=\"convertToInteractive('df-86a1b79e-7662-480b-82fb-0ea1036aadd3')\"\n",
              "              title=\"Convert this dataframe to an interactive table.\"\n",
              "              style=\"display:none;\">\n",
              "        \n",
              "  <svg xmlns=\"http://www.w3.org/2000/svg\" height=\"24px\"viewBox=\"0 0 24 24\"\n",
              "       width=\"24px\">\n",
              "    <path d=\"M0 0h24v24H0V0z\" fill=\"none\"/>\n",
              "    <path d=\"M18.56 5.44l.94 2.06.94-2.06 2.06-.94-2.06-.94-.94-2.06-.94 2.06-2.06.94zm-11 1L8.5 8.5l.94-2.06 2.06-.94-2.06-.94L8.5 2.5l-.94 2.06-2.06.94zm10 10l.94 2.06.94-2.06 2.06-.94-2.06-.94-.94-2.06-.94 2.06-2.06.94z\"/><path d=\"M17.41 7.96l-1.37-1.37c-.4-.4-.92-.59-1.43-.59-.52 0-1.04.2-1.43.59L10.3 9.45l-7.72 7.72c-.78.78-.78 2.05 0 2.83L4 21.41c.39.39.9.59 1.41.59.51 0 1.02-.2 1.41-.59l7.78-7.78 2.81-2.81c.8-.78.8-2.07 0-2.86zM5.41 20L4 18.59l7.72-7.72 1.47 1.35L5.41 20z\"/>\n",
              "  </svg>\n",
              "      </button>\n",
              "      \n",
              "  <style>\n",
              "    .colab-df-container {\n",
              "      display:flex;\n",
              "      flex-wrap:wrap;\n",
              "      gap: 12px;\n",
              "    }\n",
              "\n",
              "    .colab-df-convert {\n",
              "      background-color: #E8F0FE;\n",
              "      border: none;\n",
              "      border-radius: 50%;\n",
              "      cursor: pointer;\n",
              "      display: none;\n",
              "      fill: #1967D2;\n",
              "      height: 32px;\n",
              "      padding: 0 0 0 0;\n",
              "      width: 32px;\n",
              "    }\n",
              "\n",
              "    .colab-df-convert:hover {\n",
              "      background-color: #E2EBFA;\n",
              "      box-shadow: 0px 1px 2px rgba(60, 64, 67, 0.3), 0px 1px 3px 1px rgba(60, 64, 67, 0.15);\n",
              "      fill: #174EA6;\n",
              "    }\n",
              "\n",
              "    [theme=dark] .colab-df-convert {\n",
              "      background-color: #3B4455;\n",
              "      fill: #D2E3FC;\n",
              "    }\n",
              "\n",
              "    [theme=dark] .colab-df-convert:hover {\n",
              "      background-color: #434B5C;\n",
              "      box-shadow: 0px 1px 3px 1px rgba(0, 0, 0, 0.15);\n",
              "      filter: drop-shadow(0px 1px 2px rgba(0, 0, 0, 0.3));\n",
              "      fill: #FFFFFF;\n",
              "    }\n",
              "  </style>\n",
              "\n",
              "      <script>\n",
              "        const buttonEl =\n",
              "          document.querySelector('#df-86a1b79e-7662-480b-82fb-0ea1036aadd3 button.colab-df-convert');\n",
              "        buttonEl.style.display =\n",
              "          google.colab.kernel.accessAllowed ? 'block' : 'none';\n",
              "\n",
              "        async function convertToInteractive(key) {\n",
              "          const element = document.querySelector('#df-86a1b79e-7662-480b-82fb-0ea1036aadd3');\n",
              "          const dataTable =\n",
              "            await google.colab.kernel.invokeFunction('convertToInteractive',\n",
              "                                                     [key], {});\n",
              "          if (!dataTable) return;\n",
              "\n",
              "          const docLinkHtml = 'Like what you see? Visit the ' +\n",
              "            '<a target=\"_blank\" href=https://colab.research.google.com/notebooks/data_table.ipynb>data table notebook</a>'\n",
              "            + ' to learn more about interactive tables.';\n",
              "          element.innerHTML = '';\n",
              "          dataTable['output_type'] = 'display_data';\n",
              "          await google.colab.output.renderOutput(dataTable, element);\n",
              "          const docLink = document.createElement('div');\n",
              "          docLink.innerHTML = docLinkHtml;\n",
              "          element.appendChild(docLink);\n",
              "        }\n",
              "      </script>\n",
              "    </div>\n",
              "  </div>\n",
              "  "
            ]
          },
          "metadata": {},
          "execution_count": 36
        }
      ]
    },
    {
      "cell_type": "markdown",
      "source": [
        "Teraz usuń wyrażeniami regularnymi wszystkie znaki z tekstu oprócz:\n",
        "* liter alfabetu\n",
        "* białych znaków (klasa `\\s`)\n",
        "* apostrofu `'` (chodzi o angielskie skracanie, np don't albo isn't)"
      ],
      "metadata": {
        "id": "OBvl_p0HA3bj"
      }
    },
    {
      "cell_type": "markdown",
      "source": [
        "https://realpython.com/regex-python/"
      ],
      "metadata": {
        "id": "7v2OFg3Hqq4D"
      }
    },
    {
      "cell_type": "code",
      "source": [
        "\n",
        "\n"
      ],
      "metadata": {
        "id": "QMKiMol5uJlV",
        "colab": {
          "base_uri": "https://localhost:8080/"
        },
        "outputId": "3e36993e-2452-4fec-caa7-2cf1e701d406"
      },
      "execution_count": 37,
      "outputs": [
        {
          "output_type": "stream",
          "name": "stdout",
          "text": [
            "initial string :  abcjw:, .@! eiw\n",
            "final string abcjweiw\n"
          ]
        }
      ]
    },
    {
      "cell_type": "markdown",
      "source": [
        "Następnie wczytamy model `en_core_web_md` z biblioteki spacy. Użyjemy do tego metody `spacy.load`, ale dodamy też atrybut `disable=['ner', 'parser']`. W następnej linii dopiszemy `nlp.add_pipe('sentencizer')`.\n",
        "\n",
        "Usunięcie zbędnych pipelineów przyspieszy proces lematyzacji opisywany niżej."
      ],
      "metadata": {
        "id": "dXc4rzBuBZU2"
      }
    },
    {
      "cell_type": "code",
      "source": [
        "import spacy\n",
        "nlp = spacy.load(\"en_core_web_sm\", disable=['ner', 'parser'])\n",
        "nlp.add_pipe('sentencizer')"
      ],
      "metadata": {
        "id": "RiW1JY0ookVz",
        "colab": {
          "base_uri": "https://localhost:8080/"
        },
        "outputId": "d3dd119b-3418-4144-c985-d7bd680bf926"
      },
      "execution_count": 38,
      "outputs": [
        {
          "output_type": "execute_result",
          "data": {
            "text/plain": [
              "<spacy.pipeline.sentencizer.Sentencizer at 0x7ff094fff960>"
            ]
          },
          "metadata": {},
          "execution_count": 38
        }
      ]
    },
    {
      "cell_type": "markdown",
      "source": [
        "Zanim się weźmiemy za lematyzację, usuniemy z tekstu wszystkie tzw. \"stop words\", czyli słowa o małej przydatności w procesie klasyfikacji.\n",
        "\n",
        "Obejrzyj listę słów `nlp.Defaults.stop_words`."
      ],
      "metadata": {
        "id": "Q3t7c2opB5zz"
      }
    },
    {
      "cell_type": "code",
      "source": [
        "stopwords = nlp.Defaults.stop_words\n",
        "print(stopwords)"
      ],
      "metadata": {
        "id": "kYRv45dzrd58",
        "colab": {
          "base_uri": "https://localhost:8080/"
        },
        "outputId": "9cd282bb-3d7b-4498-f89a-774d72448d89"
      },
      "execution_count": 39,
      "outputs": [
        {
          "output_type": "stream",
          "name": "stdout",
          "text": [
            "{'hers', 'take', 'eight', 'to', \"'m\", 'toward', 'over', 'various', 'neither', 'move', 'thereby', 'n‘t', 'all', 'back', \"'s\", 'down', 'in', 'her', 'hereafter', 'through', 'when', 'go', 'our', 'latterly', 'yourselves', 'us', 'will', 'just', 'but', 'last', '‘s', 'seem', 'indeed', 'during', 'never', 'were', 'anywhere', 'did', 'out', 'whatever', 'the', 'than', 'become', 'nothing', 'himself', 'such', 'could', 'former', 'should', 'meanwhile', 'no', 'above', 'or', 'nowhere', 'noone', 'either', 'fifteen', 'whence', 'being', 'bottom', 'unless', 'once', 'whose', 'while', 'with', 'none', '‘ve', 'other', 'everything', 'whereupon', 'seemed', 'somewhere', 'have', 'off', 'might', 'are', '‘ll', 'why', 'me', 'still', 'whither', \"'ve\", 'therefore', 'whom', 'next', 'top', 'please', 'whether', 'very', 'six', 'much', 'well', 'hundred', 'mostly', 'they', 'ever', 'yours', 'herein', 'has', 'throughout', 'own', 'wherever', 'nobody', 'been', 'used', 'regarding', 'doing', 'nine', 'nor', 'at', 'via', 'who', 'between', 'per', 'him', 'twelve', 'done', 'seeming', 'it', 'about', 'my', 'your', 'each', 'any', 'amongst', 'again', 'quite', 'wherein', 'ten', 'twenty', 'was', 'afterwards', 'ourselves', 'nevertheless', 'am', 'that', 'here', 'even', 'becoming', 'what', 'whenever', 'almost', 'few', 'someone', 'thus', 'latter', 'name', 'beforehand', 'several', 'after', '’d', 'for', 'so', '‘re', 'some', 'many', 'hereupon', 'sometimes', 'do', 'call', 'show', 'these', 'whereby', 'how', 'yourself', 'whoever', 'now', 'a', 'is', 'everyone', 'rather', 'since', 'under', 'front', 're', 'although', 'against', 'further', 'from', '‘d', 'too', 'fifty', 'below', 'another', 'cannot', 'its', 'by', 'less', 'only', 'where', 'side', 'which', 'onto', 'except', 'can', 'he', 'sixty', 'made', 'whole', 'serious', 'empty', 'one', 'does', 'three', 'others', 'i', 'full', 'both', 'five', 'then', 'around', 'really', 'enough', 'besides', 'eleven', 'themselves', 'perhaps', '’s', 'anyway', 'without', \"n't\", 'first', 'seems', 'mine', 'be', 'more', 'whereafter', 'hence', 'often', 'before', 'not', 'otherwise', 'hereby', 'everywhere', 'those', 'anyone', 'every', 'third', 'get', 'already', 'anything', 'elsewhere', 'beyond', 'thereafter', 'say', 'may', 'would', \"'re\", 'into', 'up', 'as', 'upon', 'forty', 'using', 'thru', 'had', 'beside', 'became', 'put', 'see', 'two', 'therein', 'ours', 'anyhow', 'until', 'thereupon', 'most', 'along', '’ve', 'behind', 'together', 'we', 'within', 'somehow', 'yet', 'something', 'and', 'though', 'of', 'on', 'formerly', 'his', 'their', \"'d\", 'part', 'namely', 'because', 'ca', 'towards', 'them', 'sometime', 'must', 'four', 'n’t', '’ll', 'give', '‘m', 'whereas', 'becomes', \"'ll\", 'myself', 'among', 'thence', 'make', 'she', 'keep', 'amount', 'least', 'you', 'across', 'else', 'also', 'due', 'however', 'same', 'always', 'moreover', 'this', 'herself', 'an', 'alone', 'itself', 'if', '’re', 'there', '’m'}\n"
          ]
        }
      ]
    },
    {
      "cell_type": "markdown",
      "source": [
        "Teraz zrób funkcję do usuwania stopwords która bierze tekst i zwraca tekst z usuniętymi słowami z listy powyżej. Użyj metody `apply` do zastosowania tej funkcji na całym zbiorze danych - tak jak to robiliśmy dotąd."
      ],
      "metadata": {
        "id": "70bdoj6nCN6T"
      }
    },
    {
      "cell_type": "markdown",
      "source": [
        "https://medium.com/@yashj302/stopwords-nlp-python-4aa57dc492af"
      ],
      "metadata": {
        "id": "PHZHgMciqv0U"
      }
    },
    {
      "cell_type": "code",
      "source": [
        "#\n",
        "\n",
        "cleanedtext = []\n",
        "for item in nlp(text):\n",
        "    if not item.is_stop:\n",
        "        cleanedtext.append(item.text)\n",
        "print(' '.join(cleanedtext))"
      ],
      "metadata": {
        "id": "3a3SnOD4rlFS"
      },
      "execution_count": null,
      "outputs": []
    },
    {
      "cell_type": "markdown",
      "source": [
        "Następny krok jest zbyt czasochłonny żeby go zastosować na lekcji na całym zbiorze danych. Wczytaj zatem 20 tysięcy próbek (po 10 tys. na klasę) do nowej tabelki:"
      ],
      "metadata": {
        "id": "SmIMB0wYClys"
      }
    },
    {
      "cell_type": "code",
      "source": [],
      "metadata": {
        "id": "F-yqdGSv0N8i"
      },
      "execution_count": null,
      "outputs": []
    },
    {
      "cell_type": "markdown",
      "source": [
        "Tokenizacja i lematyzacja w bibliotece spacy jest dosyć prostym procesem. Wystarczy przekazać tekst do modułu `nlp` czyli napisać `nlp(text)`. Zwróci nam to generator którego możemy przeiterować metodą `for` i dla każdego elementu (każdego wyrazu) zwrócić parametr `lemma_` (z podkreślikiem, żeby otrzymać string zamiast indeksu). Wszystkie lematy oczywiście należy połączyć spacjami z powrotem w tekst.\n",
        "\n",
        "Użyj do tego metody `progress_apply` tak samo jako `apply` użyty powyżej."
      ],
      "metadata": {
        "id": "XVJVd-hWC3x5"
      }
    },
    {
      "cell_type": "code",
      "source": [],
      "metadata": {
        "id": "L0G72gshsZoH"
      },
      "execution_count": null,
      "outputs": []
    },
    {
      "cell_type": "markdown",
      "source": [
        "## Chmury słów\n",
        "\n",
        "Jak mamy oczyszczony tekst, możemy zwizualizować jego zawartość sprawdzając chmury słów. Użyjemy do tego biblioteki `WordCloud`. Do konstruktora podaj atrybuty `max_words = 1000`, `width = 1600`, `height = 800`, `collocations=False`, a potem użyj metody `generate` podając do niej tekst złączony z całego przelematyzowanego zbioru. Na koniec użyj metody `to_image()` żeby wyświetlić chmurę.\n",
        "\n",
        "Zrób to osobno dla klasy negatywnej i pozytywnej. Jakie słowa tam widzisz? Czy są jakieś słowa które się pojawiają w obydwu klasach (może powinny trafić na listę stop-words)?"
      ],
      "metadata": {
        "id": "MMcBbC7vD0nP"
      }
    },
    {
      "cell_type": "markdown",
      "source": [
        "https://www.geeksforgeeks.org/generating-word-cloud-python/"
      ],
      "metadata": {
        "id": "HjqhR3Otq2Oo"
      }
    },
    {
      "cell_type": "code",
      "source": [
        "#\n",
        "# Python program to generate WordCloud\n",
        " \n",
        "# importing all necessary modules\n",
        "from wordcloud import WordCloud, STOPWORDS\n",
        "import matplotlib.pyplot as plt\n",
        "import pandas as pd\n",
        " \n",
        "# Reads 'Youtube04-Eminem.csv' file\n",
        "df = pd.read_csv(r\"Youtube04-Eminem.csv\", encoding =\"latin-1\")\n",
        " \n",
        "comment_words = ''\n",
        "stopwords = set(STOPWORDS)\n",
        " \n",
        "# iterate through the csv file\n",
        "for val in df.CONTENT:\n",
        "     \n",
        "    # typecaste each val to string\n",
        "    val = str(val)\n",
        " \n",
        "    # split the value\n",
        "    tokens = val.split()\n",
        "     \n",
        "    # Converts each token into lowercase\n",
        "    for i in range(len(tokens)):\n",
        "        tokens[i] = tokens[i].lower()\n",
        "     \n",
        "    comment_words += \" \".join(tokens)+\" \"\n",
        " \n",
        "wordcloud = WordCloud(width = 800, height = 800,\n",
        "                background_color ='white',\n",
        "                stopwords = stopwords,\n",
        "                min_font_size = 10).generate(comment_words)\n",
        " \n",
        "# plot the WordCloud image                      \n",
        "plt.figure(figsize = (8, 8), facecolor = None)\n",
        "plt.imshow(wordcloud)\n",
        "plt.axis(\"off\")\n",
        "plt.tight_layout(pad = 0)\n",
        " \n",
        "plt.show()"
      ],
      "metadata": {
        "id": "Sea5gdF4oeoh"
      },
      "execution_count": null,
      "outputs": []
    },
    {
      "cell_type": "code",
      "source": [],
      "metadata": {
        "id": "DsjBFUSJwohV"
      },
      "execution_count": null,
      "outputs": []
    },
    {
      "cell_type": "markdown",
      "source": [
        "# Klasyfikacja\n",
        "\n",
        "Podziel zbiór standardową metodą `train_test_split`: 10% test, 90% train. Użyj też stratyfikacji!"
      ],
      "metadata": {
        "id": "b4uNReNF3QPM"
      }
    },
    {
      "cell_type": "code",
      "source": [
        "\n",
        "dane.train_test_split(X = lowtext,\n",
        "                      y = TemporaryWorkingDirectory,\n",
        "                      test_size = 0.1,\n",
        "                      stratify=y)"
      ],
      "metadata": {
        "id": "1g8mdEN43SOV"
      },
      "execution_count": null,
      "outputs": []
    },
    {
      "cell_type": "markdown",
      "source": [
        "Teraz musimy wyciągnąć jakieś sensowne cechy z każdego elementu. Użyjemy do tego klasę `TfidfVectorizer`. Dodamy do konstruktora atrybut `max_features=500000` oraz `ngram_range=(1,2)` żeby wskazać że szukamy par wyrazów, a nie tylko unigramów.\n",
        "\n",
        "Potem zastosuj metodę `fit` na zbiorze `X_train`."
      ],
      "metadata": {
        "id": "SVAPOUwGFCzN"
      }
    },
    {
      "cell_type": "code",
      "source": [],
      "metadata": {
        "id": "jEUfjOtH1zfi"
      },
      "execution_count": null,
      "outputs": []
    },
    {
      "cell_type": "markdown",
      "source": [
        "Klasa ta najpierw szuka listy wyrazów (a raczej par) mających wysoką wartość według kryterium TF-IDF. Użyj metody `get_feature_names_out` żeby pobrać ich listę. Ile jest tych elementów?"
      ],
      "metadata": {
        "id": "ZFZCz49LF1cY"
      }
    },
    {
      "cell_type": "code",
      "source": [],
      "metadata": {
        "id": "8Davj0qM5MmD"
      },
      "execution_count": null,
      "outputs": []
    },
    {
      "cell_type": "markdown",
      "source": [
        "Teraz zastosuj metodę `transform` na zbiorach `X_train` i `X_test`."
      ],
      "metadata": {
        "id": "XpPeLvZBGIu0"
      }
    },
    {
      "cell_type": "code",
      "source": [],
      "metadata": {
        "id": "anB_vByH5Tg1"
      },
      "execution_count": null,
      "outputs": []
    },
    {
      "cell_type": "markdown",
      "source": [
        "Jakie są rozmiary powstałych tablic?\n",
        "\n",
        "Na szczęście, scikit-learn je zapisał automatycznie w formacie \"sparse matrix\" więc nie zajmują tak dużo pamięci."
      ],
      "metadata": {
        "id": "nlTKAkahGPcN"
      }
    },
    {
      "cell_type": "code",
      "source": [],
      "metadata": {
        "id": "lbFf0C1IFZwv"
      },
      "execution_count": null,
      "outputs": []
    },
    {
      "cell_type": "markdown",
      "source": [
        "Wypisz tablekę `X_train` metodą `print` żeby zobaczyć fragment jej zawartości.\n",
        "\n",
        "Zobaczymy w ten sposób tylko wartości różne od 0."
      ],
      "metadata": {
        "id": "U3qgI0ZkGdjS"
      }
    },
    {
      "cell_type": "code",
      "source": [],
      "metadata": {
        "id": "xlVDqrt85dKd"
      },
      "execution_count": null,
      "outputs": []
    },
    {
      "cell_type": "markdown",
      "source": [
        "## Właściwa klasyfikacja\n",
        "\n",
        "Stwórz model `BernoulliNB`, czyli Naive Bayes - popularny do klayfikacji spamu! Użyj metody `fit` na danych traningowych, `predict` na testowych i `classification_report` żeby sprawdzić wynik.\n",
        "\n",
        "Jeśli masz ochotę narysuj tez macierz konfuzji i wypróbuj inne klasyfikatory oraz metody ekstrakcji cech z biblioteki scikit-learn."
      ],
      "metadata": {
        "id": "MjjGkMKKGt7e"
      }
    },
    {
      "cell_type": "code",
      "source": [],
      "metadata": {
        "id": "5bPuc5Xx5hXU"
      },
      "execution_count": null,
      "outputs": []
    }
  ]
}